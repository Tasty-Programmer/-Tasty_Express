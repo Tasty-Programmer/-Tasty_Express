{
 "cells": [
  {
   "cell_type": "code",
   "execution_count": 8,
   "metadata": {
    "collapsed": true
   },
   "outputs": [
    {
     "name": "stdout",
     "output_type": "stream",
     "text": [
      "['banana', 'cherry', 'apple']\n",
      "[5, True, 'apple', 'apple']\n",
      "cherry\n"
     ]
    }
   ],
   "source": [
    "mylst = ['banana','cherry','apple']\n",
    "print(mylst)\n",
    "\n",
    "mylst2 = [5,True,'apple','apple']\n",
    "print(mylst2)\n",
    "\n",
    "item = mylst[-2]\n",
    "print(item)\n",
    "\n"
   ]
  },
  {
   "cell_type": "code",
   "execution_count": 9,
   "outputs": [
    {
     "name": "stdout",
     "output_type": "stream",
     "text": [
      "banana\n",
      "cherry\n",
      "apple\n"
     ]
    }
   ],
   "source": [
    "for i in mylst:\n",
    "    print(i)"
   ],
   "metadata": {
    "collapsed": false,
    "pycharm": {
     "name": "#%%\n"
    }
   }
  },
  {
   "cell_type": "code",
   "execution_count": 11,
   "outputs": [
    {
     "name": "stdout",
     "output_type": "stream",
     "text": [
      "yes\n",
      "no\n"
     ]
    }
   ],
   "source": [
    "if 'banana' in mylst:\n",
    "    print('yes')\n",
    "else:\n",
    "    print('no')\n",
    "\n",
    "if 'lemon' in mylst:\n",
    "    print('yes')\n",
    "else:\n",
    "    print('no')"
   ],
   "metadata": {
    "collapsed": false,
    "pycharm": {
     "name": "#%%\n"
    }
   }
  },
  {
   "cell_type": "code",
   "execution_count": 14,
   "outputs": [
    {
     "name": "stdout",
     "output_type": "stream",
     "text": [
      "3\n",
      "4\n"
     ]
    }
   ],
   "source": [
    "print(len(mylst))\n",
    "print(len(mylst2))"
   ],
   "metadata": {
    "collapsed": false,
    "pycharm": {
     "name": "#%%\n"
    }
   }
  },
  {
   "cell_type": "code",
   "execution_count": 39,
   "outputs": [
    {
     "name": "stdout",
     "output_type": "stream",
     "text": [
      "[]\n",
      "[-5, -1, 1, 3, 4, 10]\n",
      "[-5, -1, 1, 3, 4, 10]\n",
      "[-5, -1, 1, 3, 4, 10]\n",
      "[0, 0, 0, 0, 0]\n",
      "[0, 0, 0, 0, 0, 1, 2, 3, 4, 5]\n",
      "[9, 8, 7, 6, 5, 4, 3, 2, 1]\n",
      "['banana', 'cherry', 'apple']\n",
      "['banana', 'cherry', 'apple', 'lemon']\n",
      "['banana', 'cherry', 'apple']\n"
     ]
    }
   ],
   "source": [
    "#mylst.append('lemon')\n",
    "#print(mylst)\n",
    "\n",
    "#mylst.insert(1,'blueberry')\n",
    "#print(mylst)\n",
    "\n",
    "#item = mylst.pop()\n",
    "#print(item)\n",
    "#print(mylst)\n",
    "\n",
    "#item = mylst.remove('cherry')\n",
    "#print(mylst)\n",
    "\n",
    "item = mylst.clear()\n",
    "print(mylst)\n",
    "\n",
    "#item = mylst.reverse()\n",
    "#print(mylst)\n",
    "\n",
    "mylst3 = [4,3,1,-1,-5,10]\n",
    "\n",
    "item = mylst3.sort()\n",
    "print(mylst3)\n",
    "new_lst = sorted(mylst3)\n",
    "print(mylst3)\n",
    "print(new_lst)\n",
    "\n",
    "mylst4 = [0] * 5\n",
    "print(mylst4)\n",
    "\n",
    "mylst5 = [1,2,3,4,5]\n",
    "new_lst = mylst4 + mylst5\n",
    "print(new_lst)\n",
    "mylst6 = [1,2,3,4,5,6,7,8,9]\n",
    "a = mylst6[1:5]\n",
    "a = mylst6[:5]\n",
    "a = mylst6[1::1]\n",
    "a = mylst6[::-1]\n",
    "\n",
    "print(a)\n",
    "\n"
   ],
   "metadata": {
    "collapsed": false,
    "pycharm": {
     "name": "#%%\n"
    }
   }
  },
  {
   "cell_type": "code",
   "execution_count": 41,
   "outputs": [
    {
     "name": "stdout",
     "output_type": "stream",
     "text": [
      "['banana', 'cherry', 'apple']\n",
      "['banana', 'cherry', 'apple', 'lemon']\n",
      "['banana', 'cherry', 'apple']\n"
     ]
    }
   ],
   "source": [
    "lst_org = ['banana','cherry','apple']\n",
    "\n",
    "lst_cpy = lst_org.copy()\n",
    "lst_cpy_slice = lst_org[:]\n",
    "print(lst_cpy)\n",
    "\n",
    "lst_cpy.append('lemon')\n",
    "print(lst_cpy)\n",
    "print(lst_org)\n",
    "print(lst_cpy_slice)\n"
   ],
   "metadata": {
    "collapsed": false,
    "pycharm": {
     "name": "#%%\n"
    }
   }
  },
  {
   "cell_type": "code",
   "execution_count": 43,
   "outputs": [
    {
     "name": "stdout",
     "output_type": "stream",
     "text": [
      "[1, 2, 3, 4, 5, 6]\n",
      "[1, 4, 9, 16, 25, 36]\n"
     ]
    }
   ],
   "source": [
    "a = [1,2,3,4,5,6]\n",
    "b = [i*i for i in a]\n",
    "print(a)\n",
    "print(b)\n"
   ],
   "metadata": {
    "collapsed": false,
    "pycharm": {
     "name": "#%%\n"
    }
   }
  }
 ],
 "metadata": {
  "kernelspec": {
   "display_name": "Python 3",
   "language": "python",
   "name": "python3"
  },
  "language_info": {
   "codemirror_mode": {
    "name": "ipython",
    "version": 2
   },
   "file_extension": ".py",
   "mimetype": "text/x-python",
   "name": "python",
   "nbconvert_exporter": "python",
   "pygments_lexer": "ipython2",
   "version": "2.7.6"
  }
 },
 "nbformat": 4,
 "nbformat_minor": 0
}