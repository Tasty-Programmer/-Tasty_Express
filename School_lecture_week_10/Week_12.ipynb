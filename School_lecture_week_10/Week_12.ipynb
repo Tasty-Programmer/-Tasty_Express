{
 "cells": [
  {
   "cell_type": "code",
   "execution_count": 2,
   "metadata": {
    "collapsed": true
   },
   "outputs": [
    {
     "name": "stdout",
     "output_type": "stream",
     "text": [
      "First Name :  Hong\n",
      "Last Name :  Gil Dong\n",
      "Work Location :  Daelim College\n"
     ]
    }
   ],
   "source": [
    "contact = { }\n",
    "contact['Hong Gil Dong'] = 'Daelim College'\n",
    "\n",
    "for name, dept in contact.items():\n",
    "    print('First Name : ', name[:4])\n",
    "    print('Last Name : ', name[5:])\n",
    "    print('Work Location : ', dept)"
   ]
  },
  {
   "cell_type": "code",
   "execution_count": 4,
   "outputs": [
    {
     "name": "stdout",
     "output_type": "stream",
     "text": [
      "[('강감찬', '010-1234-5679'), ('불멸의 리순신', '010-1234-5680'), ('홍길동', '010-1234-5678')]\n",
      "[('홍길동', '010-1234-5678'), ('강감찬', '010-1234-5679'), ('불멸의 리순신', '010-1234-5680')]\n"
     ]
    }
   ],
   "source": [
    "phone_book ={\n",
    "    '홍길동':'010-1234-5678',\n",
    "    '강감찬':'010-1234-5679',\n",
    "    '불멸의 리순신':'010-1234-5680'\n",
    "    }\n",
    "\n",
    "sorted_phone_book1 = sorted(phone_book.items(),key= lambda x:x[0])\n",
    "print(sorted_phone_book1)\n",
    "sorted_phone_book2 = sorted(phone_book.items(),key= lambda x:x[1])\n",
    "print(sorted_phone_book2)\n"
   ],
   "metadata": {
    "collapsed": false,
    "pycharm": {
     "name": "#%%\n"
    }
   }
  },
  {
   "cell_type": "code",
   "execution_count": 3,
   "outputs": [
    {
     "name": "stdout",
     "output_type": "stream",
     "text": [
      "재고가 없습니다!\n",
      "프로그램을 종료합니다.\n"
     ]
    }
   ],
   "source": [
    "items = { \"커피음료\": 7,\n",
    "          \"펜\": 0,\n",
    "          \"종이컵\": 2,\n",
    "          \"우유\": 1,\n",
    "          \"콜라\": 4,\n",
    "          \"책\": 5 }\n",
    "\n",
    "while True:\n",
    "    menu = int(input(\"메뉴를 선택하시오 1) 재고조회 2) 입고 3) 출고 4) 종료 : \"))\n",
    "\n",
    "    if menu == 1:\n",
    "        name = input(\"[재고조회] 물건의 이름을 입력하시오: \")\n",
    "\n",
    "        if items[name] > 0:\n",
    "            print(\"재고 :\", items[name])\n",
    "        else:\n",
    "            print(\"재고가 없습니다!\")\n",
    "\n",
    "    if menu == 2:\n",
    "        name, quantity = map(str,input(\"[입고] 물건의 이름과 수량을 입력하시오: \").split())\n",
    "        items[name] += int(quantity)\n",
    "\n",
    "        if items[name] >= 0:\n",
    "            print(name, \"의 재고 :\", items[name])\n",
    "        else:\n",
    "            print(\"재고가 없습니다!\")\n",
    "\n",
    "    if menu == 3:\n",
    "        name, quantity = map(str,input(\"[출고] 물건의 이름과 수량을 입력하시오: \").split())\n",
    "        items[name] -= int(quantity)\n",
    "\n",
    "        if items[name] >= 0:\n",
    "            print(name, \"의 재고 :\", items[name])\n",
    "        else:\n",
    "            print(\"수량 초과!!\")\n",
    "\n",
    "    if menu == 4:\n",
    "        print(\"프로그램을 종료합니다.\")\n",
    "        break"
   ],
   "metadata": {
    "collapsed": false,
    "pycharm": {
     "name": "#%%\n"
    }
   }
  },
  {
   "cell_type": "code",
   "execution_count": 13,
   "outputs": [
    {
     "name": "stdout",
     "output_type": "stream",
     "text": [
      "파티 A.B참석자 : {'Park', 'Choi', 'Kim', 'Lee'}\n",
      "파티 A,B 중복 없이 참석한 사람 : {'Kim', 'Lee', 'Choi'}\n",
      "파티 A,B 중복 없이 참석한 사람 : {'Kim', 'Lee'}\n"
     ]
    }
   ],
   "source": [
    "PartyA = set(['Park','Kim','Lee'])\n",
    "PartyB = set(['Park','Choi'])\n",
    "\n",
    "print('파티 A.B참석자 :',PartyA.union(PartyB))\n",
    "print('파티 A,B 중복 없이 참석한 사람 :',PartyA.symmetric_difference(PartyB))\n",
    "print('파티 A,B 중복 없이 참석한 사람 :',PartyA.difference(PartyB))\n"
   ],
   "metadata": {
    "collapsed": false,
    "pycharm": {
     "name": "#%%\n"
    }
   }
  },
  {
   "cell_type": "code",
   "execution_count": 14,
   "outputs": [],
   "source": [
    "f = open('hello.txt','w')\n",
    "f.write('Hello World!')\n",
    "f.close()"
   ],
   "metadata": {
    "collapsed": false,
    "pycharm": {
     "name": "#%%\n"
    }
   }
  },
  {
   "cell_type": "code",
   "execution_count": 17,
   "outputs": [
    {
     "name": "stdout",
     "output_type": "stream",
     "text": [
      "Hello World!\n",
      "\n",
      "[]\n"
     ]
    }
   ],
   "source": [
    "f = open('hello.txt','r')\n",
    "s = f.read()\n",
    "s1= f.readline()\n",
    "s2= f.readlines()\n",
    "print(s)\n",
    "print(s1)\n",
    "print(s2)\n",
    "f.close()"
   ],
   "metadata": {
    "collapsed": false,
    "pycharm": {
     "name": "#%%\n"
    }
   }
  },
  {
   "cell_type": "code",
   "execution_count": null,
   "outputs": [],
   "source": [],
   "metadata": {
    "collapsed": false,
    "pycharm": {
     "name": "#%%\n"
    }
   }
  },
  {
   "cell_type": "code",
   "execution_count": null,
   "outputs": [],
   "source": [],
   "metadata": {
    "collapsed": false,
    "pycharm": {
     "name": "#%%\n"
    }
   }
  },
  {
   "cell_type": "code",
   "execution_count": null,
   "outputs": [],
   "source": [],
   "metadata": {
    "collapsed": false,
    "pycharm": {
     "name": "#%%\n"
    }
   }
  }
 ],
 "metadata": {
  "kernelspec": {
   "display_name": "Python 3",
   "language": "python",
   "name": "python3"
  },
  "language_info": {
   "codemirror_mode": {
    "name": "ipython",
    "version": 2
   },
   "file_extension": ".py",
   "mimetype": "text/x-python",
   "name": "python",
   "nbconvert_exporter": "python",
   "pygments_lexer": "ipython2",
   "version": "2.7.6"
  }
 },
 "nbformat": 4,
 "nbformat_minor": 0
}