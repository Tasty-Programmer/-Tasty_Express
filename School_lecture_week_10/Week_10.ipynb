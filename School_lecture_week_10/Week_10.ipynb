{
 "cells": [
  {
   "cell_type": "code",
   "execution_count": null,
   "metadata": {
    "collapsed": true
   },
   "outputs": [],
   "source": [
    "def print_school_address():\n",
    "    print(\"학교 : 피자스쿨\")\n",
    "    print(\"학교 주소 : 대림대 아래끝 오른쪽길로 내려가세요\")\n",
    "    print(\"학교 번호 : 031)7777-7777\")\n",
    "\n",
    "print_school_address()\n",
    "\n",
    "def print_star_ningt_pearl():\n",
    "    for _ in range(20):\n",
    "        print(\"*\", end=\"\")\n",
    "    print(\"\")\n",
    "\n",
    "print_star_ningt_pearl()\n",
    "print_star_ningt_pearl()\n",
    "print_star_ningt_pearl()\n",
    "print_star_ningt_pearl()\n",
    "print_star_ningt_pearl()"
   ]
  },
  {
   "cell_type": "code",
   "execution_count": null,
   "outputs": [],
   "source": [
    "def print_address2(name, address):\n",
    "    print(\"이름 : \", name)\n",
    "    print(\"주소 : \", address)\n",
    "\n",
    "print_address2('홍길순', '부산광역시 남구 광안로 10번길 1-1')"
   ],
   "metadata": {
    "collapsed": false,
    "pycharm": {
     "name": "#%%\n"
    }
   }
  },
  {
   "cell_type": "code",
   "execution_count": null,
   "outputs": [],
   "source": [
    "def get_square(a, b, c):\n",
    "    return a**2, b**2, c**2\n",
    "\n",
    "a, b, c = 1, 2, 3\n",
    "a_sq, b_sq, c_sq = get_square(a, b, c)\n",
    "print(a, '제곱 : ', a_sq, '\\t', b, '제곱 : ', b_sq, '\\t', c, '제곱 : ', c_sq)"
   ],
   "metadata": {
    "collapsed": false,
    "pycharm": {
     "name": "#%%\n"
    }
   }
  },
  {
   "cell_type": "code",
   "execution_count": null,
   "outputs": [],
   "source": [
    "def pibo(num2):\n",
    "    n1=0\n",
    "    n2=1\n",
    "    for i in range(num2-1):\n",
    "        n3=n1+n2\n",
    "        n1=n2\n",
    "        n2=n3\n",
    "    return n3\n",
    "print(pibo(1000000000))"
   ],
   "metadata": {
    "collapsed": false,
    "pycharm": {
     "name": "#%%\n"
    }
   }
  },
  {
   "cell_type": "code",
   "execution_count": 4,
   "outputs": [
    {
     "name": "stdout",
     "output_type": "stream",
     "text": [
      "Jennie 는 블랙핑크 맴버입니다.\n",
      "Psy 는 블랙핑크 맴버가 아닙니다.\n"
     ]
    }
   ],
   "source": [
    "def isBlackPink(black_pink, member):\n",
    "    if member in black_pink:\n",
    "        print(member, '는 블랙핑크 맴버입니다.')\n",
    "    else:\n",
    "        print(member, '는 블랙핑크 맴버가 아닙니다.')\n",
    "\n",
    "black_pink = ['Jennie', 'Jisoo', 'Rose', 'Lisa']\n",
    "\n",
    "isBlackPink(black_pink, 'Jennie')\n",
    "isBlackPink(black_pink, 'Psy')"
   ],
   "metadata": {
    "collapsed": false,
    "pycharm": {
     "name": "#%%\n"
    }
   }
  },
  {
   "cell_type": "code",
   "execution_count": 5,
   "outputs": [
    {
     "name": "stdout",
     "output_type": "stream",
     "text": [
      "6\n",
      "[5, 6]\n",
      "[4, 5, 6]\n",
      "[5, 7, 9]\n"
     ]
    }
   ],
   "source": [
    "# 1번\n",
    "numbers = [4, 5, 6, 7, 8, 9]\n",
    "print(numbers[2])\n",
    "\n",
    "# 2번\n",
    "print(numbers[1:3])\n",
    "\n",
    "# 3번\n",
    "print(numbers[:3])\n",
    "\n",
    "# 3번\n",
    "print(numbers[1::2])"
   ],
   "metadata": {
    "collapsed": false,
    "pycharm": {
     "name": "#%%\n"
    }
   }
  },
  {
   "cell_type": "code",
   "execution_count": 6,
   "outputs": [
    {
     "name": "stdout",
     "output_type": "stream",
     "text": [
      "P\n",
      "Strong\n",
      "Python\n",
      "is \n"
     ]
    }
   ],
   "source": [
    "s = 'Python is Strong'\n",
    "\n",
    "# 1번\n",
    "print(s[0])\n",
    "\n",
    "# 2번\n",
    "print(s[-6::1])\n",
    "\n",
    "# 3번\n",
    "print(s[:6])\n",
    "\n",
    "# 4번\n",
    "print(s[7:10])"
   ],
   "metadata": {
    "collapsed": false,
    "pycharm": {
     "name": "#%%\n"
    }
   }
  },
  {
   "cell_type": "code",
   "execution_count": 8,
   "outputs": [
    {
     "name": "stdout",
     "output_type": "stream",
     "text": [
      "['A', 'A', 'A', 'D', 'E', 'F', 'W', 'Y']\n"
     ]
    }
   ],
   "source": [
    "print(sorted('FADEAWAY'))"
   ],
   "metadata": {
    "collapsed": false,
    "pycharm": {
     "name": "#%%\n"
    }
   }
  },
  {
   "cell_type": "code",
   "execution_count": 7,
   "outputs": [
    {
     "name": "stdout",
     "output_type": "stream",
     "text": [
      "302 + 112  = \n",
      "오답입니다! 정답은  414 입니다.\n"
     ]
    }
   ],
   "source": [
    "import random as rd\n",
    "\n",
    "problem = [\n",
    "    '100 + 200', '300 + 400', '232 - 111', '307 + 192', '782 - 113',\n",
    "    '400 * 2', '120 + 389', '302 + 112', '542 + 312', '469 - 187'\n",
    "]\n",
    "\n",
    "question = rd.choice(problem)\n",
    "\n",
    "print(question, ' = ', end='')\n",
    "answer = int(input())\n",
    "print()\n",
    "\n",
    "if answer == eval(question):\n",
    "    print('정답입니다!')\n",
    "else:\n",
    "    print('오답입니다! 정답은 ', eval(question), '입니다.')"
   ],
   "metadata": {
    "collapsed": false,
    "pycharm": {
     "name": "#%%\n"
    }
   }
  },
  {
   "cell_type": "code",
   "execution_count": 9,
   "outputs": [
    {
     "name": "stdout",
     "output_type": "stream",
     "text": [
      "-nomodule----nomodule---\n"
     ]
    }
   ],
   "source": [
    "#import my_func as mf\n",
    "from my_func import mf_print\n",
    "#mf.mf_print(\"홀뤼쮯\",3)\n",
    "#mf.mf_print('[alias]',5)\n",
    "mf_print('-nomodule---',2)"
   ],
   "metadata": {
    "collapsed": false,
    "pycharm": {
     "name": "#%%\n"
    }
   }
  }
 ],
 "metadata": {
  "kernelspec": {
   "display_name": "Python 3",
   "language": "python",
   "name": "python3"
  },
  "language_info": {
   "codemirror_mode": {
    "name": "ipython",
    "version": 2
   },
   "file_extension": ".py",
   "mimetype": "text/x-python",
   "name": "python",
   "nbconvert_exporter": "python",
   "pygments_lexer": "ipython2",
   "version": "2.7.6"
  }
 },
 "nbformat": 4,
 "nbformat_minor": 0
}