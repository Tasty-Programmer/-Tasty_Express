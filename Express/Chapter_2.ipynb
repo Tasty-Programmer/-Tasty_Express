{
 "cells": [
  {
   "cell_type": "code",
   "execution_count": 1,
   "metadata": {
    "collapsed": true
   },
   "outputs": [
    {
     "name": "stdout",
     "output_type": "stream",
     "text": [
      "합은 300\n"
     ]
    }
   ],
   "source": [
    "x = 100\n",
    "y = 200\n",
    "sum  = x+y\n",
    "print(\"합은\",sum)"
   ]
  },
  {
   "cell_type": "code",
   "execution_count": 1,
   "outputs": [
    {
     "name": "stdout",
     "output_type": "stream",
     "text": [
      "반지름 10 원의면적 314.0\n"
     ]
    }
   ],
   "source": [
    "ra = 10\n",
    "\n",
    "areas = ra**2 *3.14\n",
    "\n",
    "print('반지름',ra,\"원의면적\",areas)"
   ],
   "metadata": {
    "collapsed": false,
    "pycharm": {
     "name": "#%%\n"
    }
   }
  },
  {
   "cell_type": "code",
   "execution_count": 1,
   "outputs": [
    {
     "ename": "NameError",
     "evalue": "name 'turtle' is not defined",
     "output_type": "error",
     "traceback": [
      "\u001B[1;31m---------------------------------------------------------------------------\u001B[0m",
      "\u001B[1;31mNameError\u001B[0m                                 Traceback (most recent call last)",
      "\u001B[1;32m<ipython-input-1-1845dbc3ffff>\u001B[0m in \u001B[0;36m<module>\u001B[1;34m\u001B[0m\n\u001B[0;32m      8\u001B[0m \u001B[0mt\u001B[0m\u001B[1;33m.\u001B[0m\u001B[0mcircle\u001B[0m\u001B[1;33m(\u001B[0m\u001B[1;36m100\u001B[0m\u001B[1;33m)\u001B[0m\u001B[1;33m\u001B[0m\u001B[1;33m\u001B[0m\u001B[0m\n\u001B[0;32m      9\u001B[0m \u001B[1;33m\u001B[0m\u001B[0m\n\u001B[1;32m---> 10\u001B[1;33m \u001B[0mturtle\u001B[0m\u001B[1;33m.\u001B[0m\u001B[0mmainloop\u001B[0m\u001B[1;33m(\u001B[0m\u001B[1;33m)\u001B[0m\u001B[1;33m\u001B[0m\u001B[1;33m\u001B[0m\u001B[0m\n\u001B[0m\u001B[0;32m     11\u001B[0m \u001B[0mturtle\u001B[0m\u001B[1;33m.\u001B[0m\u001B[0mbye\u001B[0m\u001B[1;33m(\u001B[0m\u001B[1;33m)\u001B[0m\u001B[1;33m\u001B[0m\u001B[1;33m\u001B[0m\u001B[0m\n",
      "\u001B[1;31mNameError\u001B[0m: name 'turtle' is not defined"
     ]
    }
   ],
   "source": [
    "import turtle as t\n",
    "t.shape(\"turtle\")\n",
    "\n",
    "t.circle(100)\n",
    "t.fd(30)\n",
    "t.circle(100)\n",
    "t.fd(30)\n",
    "t.circle(100)\n",
    "\n",
    "t.mainloop()\n",
    "t.bye()"
   ],
   "metadata": {
    "collapsed": false,
    "pycharm": {
     "name": "#%%\n"
    }
   }
  },
  {
   "cell_type": "code",
   "execution_count": 1,
   "outputs": [
    {
     "ename": "Terminator",
     "evalue": "",
     "output_type": "error",
     "traceback": [
      "\u001B[1;31m---------------------------------------------------------------------------\u001B[0m",
      "\u001B[1;31mTerminator\u001B[0m                                Traceback (most recent call last)",
      "\u001B[1;32m<ipython-input-1-e842d9d6544a>\u001B[0m in \u001B[0;36m<module>\u001B[1;34m\u001B[0m\n\u001B[0;32m      9\u001B[0m \u001B[1;33m\u001B[0m\u001B[0m\n\u001B[0;32m     10\u001B[0m \u001B[0mt\u001B[0m\u001B[1;33m.\u001B[0m\u001B[0mmainloop\u001B[0m\u001B[1;33m(\u001B[0m\u001B[1;33m)\u001B[0m\u001B[1;33m\u001B[0m\u001B[1;33m\u001B[0m\u001B[0m\n\u001B[1;32m---> 11\u001B[1;33m \u001B[0mt\u001B[0m\u001B[1;33m.\u001B[0m\u001B[0mbye\u001B[0m\u001B[1;33m(\u001B[0m\u001B[1;33m)\u001B[0m\u001B[1;33m\u001B[0m\u001B[1;33m\u001B[0m\u001B[0m\n\u001B[0m",
      "\u001B[1;32m~\\anaconda3\\lib\\turtle.py\u001B[0m in \u001B[0;36mbye\u001B[1;34m()\u001B[0m\n",
      "\u001B[1;31mTerminator\u001B[0m: "
     ]
    }
   ],
   "source": [
    "import turtle as t\n",
    "t.shape(\"turtle\")\n",
    "radius= 50\n",
    "t.circle(radius)\n",
    "t.fd(30)\n",
    "t.circle(radius)\n",
    "t.fd(30)\n",
    "t.circle(radius)\n",
    "\n",
    "t.mainloop()\n",
    "t.bye()"
   ],
   "metadata": {
    "collapsed": false,
    "pycharm": {
     "name": "#%%\n"
    }
   }
  },
  {
   "cell_type": "code",
   "execution_count": 4,
   "outputs": [
    {
     "name": "stdout",
     "output_type": "stream",
     "text": [
      "4.227972264501945 광년\n"
     ]
    }
   ],
   "source": [
    "speed = 30000.0\n",
    "distance = 4000000000000.0\n",
    "secs = distance/speed\n",
    "light_year = secs / (60.0*60.0*24.0*365.0)\n",
    "print(light_year,\"광년\")"
   ],
   "metadata": {
    "collapsed": false,
    "pycharm": {
     "name": "#%%\n"
    }
   }
  },
  {
   "cell_type": "code",
   "execution_count": 6,
   "outputs": [
    {
     "name": "stdout",
     "output_type": "stream",
     "text": [
      "섭씨온도 : 37.77777777777778\n"
     ]
    }
   ],
   "source": [
    "#이 프로그램은 화씨 온도를 받아서 섭씨 온도로 변환한다.\n",
    "\n",
    "\n",
    "ftemp = 100 # 화씨 온도 100를 변수에 저장한다.\n",
    "ctemp = (ftemp-32.0)*5.0/9.0 # 화씨온도 -> 섭씨온도\n",
    "print(\"섭씨온도 :\",ctemp) # 섭씨온도를 화면에 출력한다."
   ],
   "metadata": {
    "collapsed": false,
    "pycharm": {
     "name": "#%%\n"
    }
   }
  },
  {
   "cell_type": "code",
   "execution_count": null,
   "outputs": [],
   "source": [
    "# 중간점검 1.1\n",
    "k = 300"
   ],
   "metadata": {
    "collapsed": false,
    "pycharm": {
     "name": "#%%\n"
    }
   }
  },
  {
   "cell_type": "code",
   "execution_count": 7,
   "outputs": [
    {
     "name": "stdout",
     "output_type": "stream",
     "text": [
      "면적 =  15.0\n"
     ]
    }
   ],
   "source": [
    "#중간점검 1.2\n",
    "width = 3.0\n",
    "height = 5.0\n",
    "print(\"면적 = \", width*height)"
   ],
   "metadata": {
    "collapsed": false,
    "pycharm": {
     "name": "#%%\n"
    }
   }
  },
  {
   "cell_type": "code",
   "execution_count": 8,
   "outputs": [
    {
     "name": "stdout",
     "output_type": "stream",
     "text": [
      "반지름 =  5 높이= 10 원의 면적 =  785.0\n"
     ]
    }
   ],
   "source": [
    "PI = 3.14\n",
    "\n",
    "radius = 5\n",
    "height = 10\n",
    "\n",
    "volume = PI * radius * radius * height\n",
    "\n",
    "print(\"반지름 = \", radius , \"높이 = \",height,\"원의 면적 = \",volume)"
   ],
   "metadata": {
    "collapsed": false,
    "pycharm": {
     "name": "#%%\n"
    }
   }
  },
  {
   "cell_type": "code",
   "execution_count": 10,
   "outputs": [
    {
     "name": "stdout",
     "output_type": "stream",
     "text": [
      "초기값 x =  1000\n",
      "X += 2 후의 x = 1002\n",
      "x -= 2 후의 x = 1000\n"
     ]
    }
   ],
   "source": [
    "x = 1000\n",
    "print(\"초기값 x = \", x)\n",
    "\n",
    "x += 2\n",
    "print(\"X += 2 후의 x =\",x)\n",
    "\n",
    "x -= 2\n",
    "print(\"x -= 2 후의 x =\",x)"
   ],
   "metadata": {
    "collapsed": false,
    "pycharm": {
     "name": "#%%\n"
    }
   }
  },
  {
   "cell_type": "code",
   "execution_count": 11,
   "outputs": [
    {
     "name": "stdout",
     "output_type": "stream",
     "text": [
      "원리금 합계=  1628.894626777442\n"
     ]
    }
   ],
   "source": [
    "a = 1000\n",
    "r = 0.05\n",
    "n = 10\n",
    "result = a*(1+r)**n\n",
    "\n",
    "print(\"원리금 합계= \",result)"
   ],
   "metadata": {
    "collapsed": false,
    "pycharm": {
     "name": "#%%\n"
    }
   }
  },
  {
   "cell_type": "code",
   "execution_count": 12,
   "outputs": [
    {
     "name": "stdout",
     "output_type": "stream",
     "text": [
      "140632545501736.62\n"
     ]
    }
   ],
   "source": [
    "init_money = 24\n",
    "interest = 0.08\n",
    "years = 382\n",
    "print(init_money*(1+interest)**years)"
   ],
   "metadata": {
    "collapsed": false,
    "pycharm": {
     "name": "#%%\n"
    }
   }
  },
  {
   "cell_type": "code",
   "execution_count": 3,
   "outputs": [
    {
     "name": "stdout",
     "output_type": "stream",
     "text": [
      "925.88\n"
     ]
    }
   ],
   "source": [
    "price = 12345\n",
    "tax = price * 0.075\n",
    "tax = round(tax,2)\n",
    "print(tax)"
   ],
   "metadata": {
    "collapsed": false,
    "pycharm": {
     "name": "#%%\n"
    }
   }
  },
  {
   "cell_type": "code",
   "execution_count": 4,
   "outputs": [
    {
     "name": "stdout",
     "output_type": "stream",
     "text": [
      "100.0\n"
     ]
    }
   ],
   "source": [
    "# 중간점검 87.page\n",
    "x = 100\n",
    "print ((float)(x))"
   ],
   "metadata": {
    "collapsed": false,
    "pycharm": {
     "name": "#%%\n"
    }
   }
  },
  {
   "cell_type": "markdown",
   "source": [
    "# 중간점검 87.page 정수 와 부동소수점수 섞여있으면 오류납니다! 이진수로 받아서 부동소수점수를 잘 못받음!"
   ],
   "metadata": {
    "collapsed": false,
    "pycharm": {
     "name": "#%% md\n"
    }
   }
  },
  {
   "cell_type": "code",
   "execution_count": 5,
   "outputs": [
    {
     "name": "stdout",
     "output_type": "stream",
     "text": [
      "K과P\n"
     ]
    }
   ],
   "source": [
    "a = 'Kim'\n",
    "b = 'Park'\n",
    "acronym = a[0] + '과'+b[0]\n",
    "print(acronym)"
   ],
   "metadata": {
    "collapsed": false,
    "pycharm": {
     "name": "#%%\n"
    }
   }
  },
  {
   "cell_type": "code",
   "execution_count": 11,
   "outputs": [
    {
     "name": "stdout",
     "output_type": "stream",
     "text": [
      "100\n",
      "<class 'str'>\n"
     ]
    }
   ],
   "source": [
    "a = '100'\n",
    "print((int)(a))\n",
    "print(type(a))"
   ],
   "metadata": {
    "collapsed": false,
    "pycharm": {
     "name": "#%%\n"
    }
   }
  },
  {
   "cell_type": "code",
   "execution_count": 10,
   "outputs": [
    {
     "name": "stdout",
     "output_type": "stream",
     "text": [
      "100\n",
      "<class 'str'>\n"
     ]
    }
   ],
   "source": [
    "a = 100\n",
    "a = \"{}\".format(a)\n",
    "print(a)\n",
    "print(type(a))"
   ],
   "metadata": {
    "collapsed": false,
    "pycharm": {
     "name": "#%%\n"
    }
   }
  },
  {
   "cell_type": "code",
   "execution_count": 12,
   "outputs": [
    {
     "name": "stdout",
     "output_type": "stream",
     "text": [
      "\n",
      "==========================================\n",
      "today 안산 in baseball game\n",
      "서버터진kt and 한화의김성근 very good gmae\n",
      "김성근 is best player\n",
      "finally 서버터진kt and 한화의김성근 를 10:8 is score\n",
      "==========================================\n"
     ]
    }
   ],
   "source": [
    "#사용자의 대답을 변수에 저장\n",
    "stadium = input('경기장 어디입니까?')\n",
    "winner = input('이긴팀은 어디입니까?')\n",
    "loser = input('진팀은 어디입니까?')\n",
    "vip = input('우수선수는 누구입니까?')\n",
    "score = input('스코어는 몇대몇 입니까?')\n",
    "\n",
    "print('')\n",
    "print('==========================================')\n",
    "print('today',stadium,'in baseball game')\n",
    "print(winner,'and',loser,'very good gmae')\n",
    "print(vip,'is best player')\n",
    "print('finally',winner,'and',loser,'를',score,'is score')\n",
    "print('==========================================')"
   ],
   "metadata": {
    "collapsed": false,
    "pycharm": {
     "name": "#%%\n"
    }
   }
  },
  {
   "cell_type": "code",
   "execution_count": 17,
   "outputs": [
    {
     "name": "stdout",
     "output_type": "stream",
     "text": [
      "harry poter\n",
      "Harry Poter\n"
     ]
    }
   ],
   "source": [
    "name = 'Harry Poter'\n",
    "lower_name = name.lower()\n",
    "print(lower_name)\n",
    "\n",
    "name  = 'Harry Parter'\n",
    "new_name = name.replace('Parter','Poter')\n",
    "print(new_name)"
   ],
   "metadata": {
    "collapsed": false,
    "pycharm": {
     "name": "#%%\n"
    }
   }
  },
  {
   "cell_type": "code",
   "execution_count": 18,
   "outputs": [
    {
     "name": "stdout",
     "output_type": "stream",
     "text": [
      "200 씨, HI\n",
      "파이썬에 오신것을 환영합니다\n"
     ]
    }
   ],
   "source": [
    "name = input('이름을 입력하세요')\n",
    "print(name,'씨, HI')\n",
    "print('파이썬에 오신것을 환영합니다')"
   ],
   "metadata": {
    "collapsed": false,
    "pycharm": {
     "name": "#%%\n"
    }
   }
  },
  {
   "cell_type": "code",
   "execution_count": 24,
   "outputs": [
    {
     "name": "stdout",
     "output_type": "stream",
     "text": [
      "합를!  700 뺄셈를! 300 곱하기를! 100000 나눗셈를! 2.5\n"
     ]
    }
   ],
   "source": [
    "x = int(input('첫번째 정수 입력'))\n",
    "y = int(input('두번째 정수 입력'))\n",
    "sum = x + y\n",
    "minus = x-y\n",
    "mul = x*y\n",
    "div = x/y\n",
    "print('합를! ', sum,'뺄셈를!',minus,'곱하기를!',mul,'나눗셈를!',div)"
   ],
   "metadata": {
    "collapsed": false,
    "pycharm": {
     "name": "#%%\n"
    }
   }
  },
  {
   "cell_type": "code",
   "execution_count": 26,
   "outputs": [
    {
     "name": "stdout",
     "output_type": "stream",
     "text": [
      "30.303030303030305 평\n",
      "60.60606060606061 평\n"
     ]
    }
   ],
   "source": [
    "SQMETER_PER_P = 3.3\n",
    "\n",
    "area = float(input('면적(제곱미터):'))\n",
    "py = area /SQMETER_PER_P\n",
    "print(py,'평')\n",
    "\n",
    "SQMETER_PER_P = 3.3\n",
    "\n",
    "area = eval(input('면적(제곱미터):'))\n",
    "py = area / SQMETER_PER_P\n",
    "print(py, '평')"
   ],
   "metadata": {
    "collapsed": false,
    "pycharm": {
     "name": "#%%\n"
    }
   }
  },
  {
   "cell_type": "code",
   "execution_count": 27,
   "outputs": [
    {
     "name": "stdout",
     "output_type": "stream",
     "text": [
      "안녕하세요\n",
      "만나서 반갑습니다.기무현섭씨\n",
      "이름의 길이는 다음과 같군요: 4\n",
      "내년이면22 이 되시는 군요\n"
     ]
    }
   ],
   "source": [
    "print('안녕하세요')\n",
    "name = input('이름이 어떻게 되시나요')\n",
    "print('만나서 반갑습니다.'+name+'씨')\n",
    "print('이름의 길이는 다음과 같군요:',len(name))\n",
    "\n",
    "age = int(input('나이가 어떻게 되나요?'))\n",
    "print('내년이면 '+str(age+1)+' 이 되시는 군요')"
   ],
   "metadata": {
    "collapsed": false,
    "pycharm": {
     "name": "#%%\n"
    }
   }
  },
  {
   "cell_type": "code",
   "execution_count": 28,
   "outputs": [
    {
     "name": "stdout",
     "output_type": "stream",
     "text": [
      "당신의 BMI= 0.008888888888888889\n"
     ]
    }
   ],
   "source": [
    "weight = float(input('몸무게를 kg 단위로 입력하시오 :'))\n",
    "height = float(input('키를 미터 단위로 입력하시오: '))\n",
    "\n",
    "bmi= (weight/(height**2))\n",
    "print('당신의 BMI=' , bmi)"
   ],
   "metadata": {
    "collapsed": false,
    "pycharm": {
     "name": "#%%\n"
    }
   }
  },
  {
   "cell_type": "code",
   "execution_count": 29,
   "outputs": [
    {
     "name": "stdout",
     "output_type": "stream",
     "text": [
      "구의 부피= 523598.6666666666\n"
     ]
    }
   ],
   "source": [
    "r = float(input('반지름을 입력'))\n",
    "\n",
    "volume = (4.0/3.0) * 3.141592 * r**3\n",
    "\n",
    "print('구의 부피=' , volume)"
   ],
   "metadata": {
    "collapsed": false,
    "pycharm": {
     "name": "#%%\n"
    }
   }
  },
  {
   "cell_type": "code",
   "execution_count": 30,
   "outputs": [
    {
     "name": "stdout",
     "output_type": "stream",
     "text": [
      "===입력금액===\n",
      "===거스름돈 출력 ===\n",
      "500won=  147 100 won =  1 10 won =  7 1won 7\n"
     ]
    }
   ],
   "source": [
    "itemPrice = int(input('물건값을 입력하시오'))\n",
    "print('===입력금액===')\n",
    "note= int(input('1000원 지폐갯수'))\n",
    "coin500 = int(input('500원 동전 갯수'))\n",
    "coin100 = int(input('100원 동전 갯수'))\n",
    "\n",
    "change = note*1000 + coin500 * 500+ coin100*100-itemPrice\n",
    "\n",
    "nCoin500 = change//500\n",
    "change = change%500\n",
    "\n",
    "nCoin100 = change//100\n",
    "change = change%100\n",
    "\n",
    "nCoin10 = change // 10\n",
    "change = change%10\n",
    "\n",
    "nCoin1 = change\n",
    "\n",
    "print('===거스름돈 출력 ===')\n",
    "print('500won= ',nCoin500,'100 won = ',nCoin100,'10 won = ',nCoin10,'1won',nCoin1)"
   ],
   "metadata": {
    "collapsed": false,
    "pycharm": {
     "name": "#%%\n"
    }
   }
  }
 ],
 "metadata": {
  "kernelspec": {
   "display_name": "Python 3",
   "language": "python",
   "name": "python3"
  },
  "language_info": {
   "codemirror_mode": {
    "name": "ipython",
    "version": 2
   },
   "file_extension": ".py",
   "mimetype": "text/x-python",
   "name": "python",
   "nbconvert_exporter": "python",
   "pygments_lexer": "ipython2",
   "version": "2.7.6"
  }
 },
 "nbformat": 4,
 "nbformat_minor": 0
}