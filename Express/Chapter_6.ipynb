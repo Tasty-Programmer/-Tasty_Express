{
 "cells": [
  {
   "cell_type": "code",
   "execution_count": 1,
   "metadata": {
    "collapsed": true
   },
   "outputs": [
    {
     "name": "stdout",
     "output_type": "stream",
     "text": [
      "\n",
      " 성적 평균 =  4160.4\n",
      "최대 점수 = 20002\n",
      "최소 점수 = 100\n"
     ]
    }
   ],
   "source": [
    "STUDENTS = 5\n",
    "lst = []\n",
    "count = 0\n",
    "\n",
    "for i in range(STUDENTS):\n",
    "    value = int(input('성적을 입력하세요'))\n",
    "    lst.append(value)\n",
    "\n",
    "\n",
    "print('\\n 성적 평균 = ',sum(lst) / len(lst))\n",
    "print('최대 점수 =',max(lst))\n",
    "print('최소 점수 =',min(lst))"
   ]
  },
  {
   "cell_type": "code",
   "execution_count": 2,
   "outputs": [
    {
     "name": "stdout",
     "output_type": "stream",
     "text": [
      "두번째로 큰수 15\n"
     ]
    }
   ],
   "source": [
    "list1 = [1,2,3,4,15,99]\n",
    "\n",
    "list1.sort()\n",
    "\n",
    "print('두번째로 큰수' , list1[-2])\n"
   ],
   "metadata": {
    "collapsed": false,
    "pycharm": {
     "name": "#%%\n"
    }
   }
  },
  {
   "cell_type": "code",
   "execution_count": 3,
   "outputs": [
    {
     "name": "stdout",
     "output_type": "stream",
     "text": [
      "두번째로 큰 수 = 15\n"
     ]
    }
   ],
   "source": [
    "list1 = [1,2,3,4,15,99]\n",
    "\n",
    "list1.remove(max(list1))\n",
    "\n",
    "print('두번째로 큰 수 =',max(list1))"
   ],
   "metadata": {
    "collapsed": false,
    "pycharm": {
     "name": "#%%\n"
    }
   }
  },
  {
   "cell_type": "code",
   "execution_count": 4,
   "outputs": [
    {
     "name": "stdout",
     "output_type": "stream",
     "text": [
      "제거전 [10.0, 9.0, 8.3, 7.1, 3.0, 9.0]\n",
      "제거후 [9.0, 8.3, 7.1, 9.0]\n"
     ]
    }
   ],
   "source": [
    "score = [10.0,9.0,8.3,7.1,3.0,9.0]\n",
    "print('제거전',score)\n",
    "# 배열내 가장 큰수 제거\n",
    "score.remove(max(score))\n",
    "# 배열내 가장 작은수 제거\n",
    "score.remove(min(score))\n",
    "print('제거후',score)"
   ],
   "metadata": {
    "collapsed": false,
    "pycharm": {
     "name": "#%%\n"
    }
   }
  },
  {
   "cell_type": "code",
   "execution_count": 5,
   "outputs": [
    {
     "name": "stdout",
     "output_type": "stream",
     "text": [
      "제거전 [10.0, 9.0, 8.3, 7.1, 3.0, 9.0]\n",
      "제거후 [7.1, 8.3, 9.0, 9.0]\n"
     ]
    }
   ],
   "source": [
    "score = [10.0,9.0,8.3,7.1,3.0,9.0]\n",
    "print('제거전',score)\n",
    "score.sort()\n",
    "\n",
    "new_score = score[1:-1]\n",
    "print('제거후',new_score)"
   ],
   "metadata": {
    "collapsed": false,
    "pycharm": {
     "name": "#%%\n"
    }
   }
  },
  {
   "cell_type": "code",
   "execution_count": 6,
   "outputs": [
    {
     "name": "stdout",
     "output_type": "stream",
     "text": [
      "배\n",
      "배\n",
      "야무진가을배,배,배나구\n"
     ]
    }
   ],
   "source": [
    "stack = []\n",
    "\n",
    "for i in range(3):\n",
    "    f = input('과일 입력')\n",
    "    stack.append(f)\n",
    "\n",
    "for i in range(3):\n",
    "    print(stack.pop())"
   ],
   "metadata": {
    "collapsed": false,
    "pycharm": {
     "name": "#%%\n"
    }
   }
  },
  {
   "cell_type": "code",
   "execution_count": 7,
   "outputs": [
    {
     "name": "stdout",
     "output_type": "stream",
     "text": [
      "----------------------\n",
      "1 friends list\n",
      "2 add friend\n",
      "3 delete friend\n",
      "4.modify friend\n",
      "9. end\n",
      "이름 없어!\n",
      "----------------------\n",
      "1 friends list\n",
      "2 add friend\n",
      "3 delete friend\n",
      "4.modify friend\n",
      "9. end\n"
     ]
    }
   ],
   "source": [
    "menu = 0\n",
    "friends = []\n",
    "while menu != 9:\n",
    "    print('----------------------')\n",
    "    print('1 friends list')\n",
    "    print('2 add friend')\n",
    "    print('3 delete friend')\n",
    "    print('4.modify friend')\n",
    "    print('9. end')\n",
    "    menu = int(input('select menu'))\n",
    "    if menu == 1:\n",
    "        print(friends)\n",
    "    elif menu == 2:\n",
    "        name = input('input name')\n",
    "        friends.append(name)\n",
    "    elif menu == 3:\n",
    "        del_name = input('input del name')\n",
    "        friends.remove(del_name)\n",
    "    elif menu == 4:\n",
    "        mody_name = input('input mody name')\n",
    "        if mody_name in friends:\n",
    "            friends.index(mody_name)\n",
    "            new_name = input('new name input~')\n",
    "            friends[mody_name] = new_name\n",
    "        else:\n",
    "            print('이름 없어!')\n",
    "\n"
   ],
   "metadata": {
    "collapsed": false,
    "pycharm": {
     "name": "#%%\n"
    }
   }
  },
  {
   "cell_type": "code",
   "execution_count": 1,
   "outputs": [
    {
     "name": "stdout",
     "output_type": "stream",
     "text": [
      "수행시간 2.8704233169555664\n",
      "수행시간 0.005983114242553711\n"
     ]
    }
   ],
   "source": [
    "import time as t\n",
    "SIZE = 50000\n",
    "\n",
    "\n",
    "start_time = t.time()\n",
    "mylist = []\n",
    "for i in range(SIZE):\n",
    "    mylist = mylist+[i*i]\n",
    "print('수행시간',t.time()-start_time)\n",
    "\n",
    "start_time = t.time()\n",
    "mylist = []\n",
    "for i in range(SIZE):\n",
    "    mylist.append(i*i)\n",
    "print('수행시간',t.time()-start_time)"
   ],
   "metadata": {
    "collapsed": false,
    "pycharm": {
     "name": "#%%\n"
    }
   }
  },
  {
   "cell_type": "code",
   "execution_count": 2,
   "outputs": [
    {
     "name": "stdout",
     "output_type": "stream",
     "text": [
      "인상전 [200, 250, 300, 280, 500]\n",
      "인상후 [260.0, 325.0, 390.0, 364.0, 650.0]\n"
     ]
    }
   ],
   "source": [
    "salaries = [200,250,300,280,500]\n",
    "\n",
    "def modify(values,factor):\n",
    "    for i in range(len(values)):\n",
    "        values[i] = values[i] * factor\n",
    "\n",
    "print('인상전',salaries)\n",
    "modify(salaries,1.3)\n",
    "print('인상후',salaries)"
   ],
   "metadata": {
    "collapsed": false,
    "pycharm": {
     "name": "#%%\n"
    }
   }
  },
  {
   "cell_type": "code",
   "execution_count": 3,
   "outputs": [
    {
     "name": "stdout",
     "output_type": "stream",
     "text": [
      "[0, 6, 12, 18, 24, 30, 36, 42, 48, 54, 60, 66, 72, 78, 84, 90, 96]\n"
     ]
    }
   ],
   "source": [
    "numbers = [x for x in range(100) if x %2 == 0 and x%3==0]\n",
    "print(numbers)"
   ],
   "metadata": {
    "collapsed": false,
    "pycharm": {
     "name": "#%%\n"
    }
   }
  },
  {
   "cell_type": "code",
   "execution_count": 5,
   "outputs": [
    {
     "name": "stdout",
     "output_type": "stream",
     "text": [
      "원래 리스트 [10, 20, 30, 40, 50]\n",
      " 새로운 리스트 [10, 30, 60, 100, 150]\n"
     ]
    }
   ],
   "source": [
    "list1 = [10,20,30,40,50]\n",
    "list2 =[sum(list1[0:x+1])for x in range(0,len(list1))]\n",
    "\n",
    "print('원래 리스트',list1)\n",
    "print(' 새로운 리스트',list2)"
   ],
   "metadata": {
    "collapsed": false,
    "pycharm": {
     "name": "#%%\n"
    }
   }
  },
  {
   "cell_type": "code",
   "execution_count": 6,
   "outputs": [
    {
     "data": {
      "text/plain": "[(3, 4, 5),\n (5, 12, 13),\n (6, 8, 10),\n (7, 24, 25),\n (8, 15, 17),\n (9, 12, 15),\n (10, 24, 26),\n (12, 16, 20),\n (15, 20, 25),\n (20, 21, 29)]"
     },
     "execution_count": 6,
     "metadata": {},
     "output_type": "execute_result"
    }
   ],
   "source": [
    "[(x,y,z)for x in range(1,30) for y in range(x,30) for z in range(y,30)if x**2 + y**2 == z**2]"
   ],
   "metadata": {
    "collapsed": false,
    "pycharm": {
     "name": "#%%\n"
    }
   }
  },
  {
   "cell_type": "code",
   "execution_count": 7,
   "outputs": [
    {
     "name": "stdout",
     "output_type": "stream",
     "text": [
      "1 0 1 0 1 0 1 0 1 0 \n",
      "0 1 0 1 0 1 0 1 0 1 \n",
      "1 0 1 0 1 0 1 0 1 0 \n",
      "0 1 0 1 0 1 0 1 0 1 \n",
      "1 0 1 0 1 0 1 0 1 0 \n",
      "0 1 0 1 0 1 0 1 0 1 \n",
      "1 0 1 0 1 0 1 0 1 0 \n",
      "0 1 0 1 0 1 0 1 0 1 \n",
      "1 0 1 0 1 0 1 0 1 0 \n",
      "0 1 0 1 0 1 0 1 0 1 \n"
     ]
    }
   ],
   "source": [
    "table = [ ]\n",
    "\n",
    "def printList(mylist):\n",
    "    for row in range(len(mylist)):\n",
    "        for col in range(len(mylist[0])):\n",
    "            print(mylist[row][col],end=' ')\n",
    "        print()\n",
    "\n",
    "def init(mylist):\n",
    "    for row in range(len(mylist)):\n",
    "        for col in range(len(mylist[0])):\n",
    "            if(row+col)%2 ==0:\n",
    "                table[row][col] = 1\n",
    "\n",
    "for row in range(10):\n",
    "    table+=[[0]*10]\n",
    "\n",
    "init(table)\n",
    "printList(table)\n",
    "\n"
   ],
   "metadata": {
    "collapsed": false,
    "pycharm": {
     "name": "#%%\n"
    }
   }
  },
  {
   "cell_type": "code",
   "execution_count": 8,
   "outputs": [
    {
     "name": "stdout",
     "output_type": "stream",
     "text": [
      "원래 행렬 [[1, 2, 3], [4, 5, 6], [7, 8, 9]]\n",
      "전치 행렬 [[1, 4, 7], [2, 5, 8], [3, 6, 9]]\n"
     ]
    }
   ],
   "source": [
    "transposed = []\n",
    "matrix = [[1,2,3],[4,5,6],[7,8,9]]\n",
    "\n",
    "print('원래 행렬',matrix)\n",
    "\n",
    "for i in range(len(matrix[0])):\n",
    "    transposed_row = []\n",
    "    for row in matrix:\n",
    "        transposed_row.append(row[i])\n",
    "    transposed.append(transposed_row)\n",
    "\n",
    "print('전치 행렬',transposed)"
   ],
   "metadata": {
    "collapsed": false,
    "pycharm": {
     "name": "#%%\n"
    }
   }
  },
  {
   "cell_type": "code",
   "execution_count": 9,
   "outputs": [
    {
     "name": "stdout",
     "output_type": "stream",
     "text": [
      "원래 행렬 [[1, 2, 3], [4, 5, 6], [7, 8, 9]]\n",
      "전치 행렬 [[1, 4, 7], [2, 5, 8], [3, 6, 9]]\n"
     ]
    }
   ],
   "source": [
    "transposed = []\n",
    "matrix = [[1,2,3],[4,5,6],[7,8,9]]\n",
    "\n",
    "print('원래 행렬',matrix)\n",
    "\n",
    "transposed = [[row[i]for row in matrix] for i in range(len(matrix[0]))]\n",
    "print('전치 행렬',transposed)"
   ],
   "metadata": {
    "collapsed": false,
    "pycharm": {
     "name": "#%%\n"
    }
   }
  },
  {
   "cell_type": "code",
   "execution_count": null,
   "outputs": [],
   "source": [],
   "metadata": {
    "collapsed": false,
    "pycharm": {
     "name": "#%%\n"
    }
   }
  }
 ],
 "metadata": {
  "kernelspec": {
   "display_name": "Python 3",
   "language": "python",
   "name": "python3"
  },
  "language_info": {
   "codemirror_mode": {
    "name": "ipython",
    "version": 2
   },
   "file_extension": ".py",
   "mimetype": "text/x-python",
   "name": "python",
   "nbconvert_exporter": "python",
   "pygments_lexer": "ipython2",
   "version": "2.7.6"
  }
 },
 "nbformat": 4,
 "nbformat_minor": 0
}