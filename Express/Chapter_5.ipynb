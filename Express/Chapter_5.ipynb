{
 "cells": [
  {
   "cell_type": "code",
   "execution_count": 2,
   "metadata": {
    "collapsed": true
   },
   "outputs": [
    {
     "name": "stdout",
     "output_type": "stream",
     "text": [
      "반지름 3인 원의 면적= 28.26 반지름 20인 원의 면적 1256.0\n"
     ]
    }
   ],
   "source": [
    "def get_area(radius):\n",
    "    area = 3.14*radius**2\n",
    "    return area\n",
    "\n",
    "result1 = get_area(3)\n",
    "result2 = get_area(20)\n",
    "print('반지름 3인 원의 면적=',result1,'반지름 20인 원의 면적',result2)"
   ]
  },
  {
   "cell_type": "code",
   "execution_count": 3,
   "outputs": [
    {
     "name": "stdout",
     "output_type": "stream",
     "text": [
      "20cm 피자 2개의 면적: 2512.0\n",
      "30cm 피자 1개의 면적: 2826.0\n"
     ]
    }
   ],
   "source": [
    "def main():\n",
    "    print('20cm 피자 2개의 면적:',get_area(20)+get_area(20))\n",
    "    print('30cm 피자 1개의 면적:',get_area(30))\n",
    "\n",
    "    #원의 면적 계산\n",
    "\n",
    "def get_area(radius):\n",
    "    if radius>0:\n",
    "        area = 3.14*radius**2\n",
    "    else:\n",
    "        area = 0\n",
    "    return area\n",
    "\n",
    "main()"
   ],
   "metadata": {
    "collapsed": false,
    "pycharm": {
     "name": "#%%\n"
    }
   }
  },
  {
   "cell_type": "code",
   "execution_count": 5,
   "outputs": [
    {
     "name": "stdout",
     "output_type": "stream",
     "text": [
      "안녕 철수 , good ?\n"
     ]
    }
   ],
   "source": [
    "def greet(name,msg):\n",
    "    print('안녕',name+' , '+msg)\n",
    "\n",
    "greet('철수','good ?')"
   ],
   "metadata": {
    "collapsed": false,
    "pycharm": {
     "name": "#%%\n"
    }
   }
  },
  {
   "cell_type": "code",
   "execution_count": 6,
   "outputs": [
    {
     "name": "stdout",
     "output_type": "stream",
     "text": [
      "안녕 철수 , 할로?\n"
     ]
    }
   ],
   "source": [
    "def greet(name,msg='할로?'):\n",
    "    print('안녕',name+' , '+msg)\n",
    "\n",
    "greet('영희')"
   ],
   "metadata": {
    "collapsed": false,
    "pycharm": {
     "name": "#%%\n"
    }
   }
  },
  {
   "cell_type": "code",
   "execution_count": 7,
   "outputs": [
    {
     "name": "stdout",
     "output_type": "stream",
     "text": [
      "하나의 값으로 호출\n",
      "(10,)\n",
      "여러개의 값으로 호출\n",
      "(10, 20, 30)\n"
     ]
    }
   ],
   "source": [
    "def varFunc(*args):\n",
    "    print(args)\n",
    "\n",
    "print('하나의 값으로 호출')\n",
    "varFunc(10)\n",
    "print('여러개의 값으로 호출')\n",
    "varFunc(10,20,30)"
   ],
   "metadata": {
    "collapsed": false,
    "pycharm": {
     "name": "#%%\n"
    }
   }
  },
  {
   "cell_type": "code",
   "execution_count": 8,
   "outputs": [
    {
     "name": "stdout",
     "output_type": "stream",
     "text": [
      "30\n",
      "60\n"
     ]
    }
   ],
   "source": [
    "def add(*numbers):\n",
    "    sum = 0\n",
    "    for n in numbers:\n",
    "        sum =sum+n\n",
    "    return sum\n",
    "\n",
    "print(add(10,20))\n",
    "print(add(10,20,30))"
   ],
   "metadata": {
    "collapsed": false,
    "pycharm": {
     "name": "#%%\n"
    }
   }
  },
  {
   "cell_type": "code",
   "execution_count": 9,
   "outputs": [
    {
     "name": "stdout",
     "output_type": "stream",
     "text": [
      "Hi!Mr.kim\n"
     ]
    }
   ],
   "source": [
    "def myfunc(**kwargs):\n",
    "    result = ''\n",
    "    for arg in kwargs.values():\n",
    "        result +=arg\n",
    "    return result\n",
    "\n",
    "print(myfunc(a='Hi!',b='Mr.',c='kim'))"
   ],
   "metadata": {
    "collapsed": false,
    "pycharm": {
     "name": "#%%\n"
    }
   }
  },
  {
   "cell_type": "code",
   "execution_count": 10,
   "outputs": [
    {
     "name": "stdout",
     "output_type": "stream",
     "text": [
      "6\n"
     ]
    }
   ],
   "source": [
    "def sum(a,b,c):\n",
    "    print(a+b+c)\n",
    "\n",
    "alist = [1,2,3]\n",
    "sum(*alist)"
   ],
   "metadata": {
    "collapsed": false,
    "pycharm": {
     "name": "#%%\n"
    }
   }
  },
  {
   "cell_type": "code",
   "execution_count": 11,
   "outputs": [
    {
     "name": "stdout",
     "output_type": "stream",
     "text": [
      "환영합네다\n",
      "환영합네다\n",
      "환영합네다\n",
      "환영합네다\n",
      "환영합네다\n",
      "환영합네다\n",
      "환영합네다\n",
      "환영합네다\n",
      "환영합네다\n",
      "환영합네다\n",
      "환영합네다\n",
      "환영합네다\n",
      "환영합네다\n",
      "환영합네다\n",
      "환영합네다\n",
      "환영합네다\n",
      "환영합네다\n",
      "환영합네다\n",
      "환영합네다\n",
      "환영합네다\n",
      "환영합네다\n",
      "환영합네다\n",
      "환영합네다\n",
      "환영합네다\n",
      "환영합네다\n",
      "환영합네다\n",
      "환영합네다\n",
      "환영합네다\n",
      "환영합네다\n",
      "환영합네다\n",
      "환영합네다\n",
      "환영합네다\n",
      "환영합네다\n",
      "환영합네다\n",
      "환영합네다\n",
      "환영합네다\n",
      "환영합네다\n",
      "환영합네다\n",
      "환영합네다\n",
      "환영합네다\n",
      "환영합네다\n",
      "환영합네다\n",
      "환영합네다\n",
      "환영합네다\n",
      "환영합네다\n",
      "환영합네다\n",
      "환영합네다\n",
      "환영합네다\n",
      "환영합네다\n",
      "환영합네다\n",
      "환영합네다\n",
      "환영합네다\n",
      "환영합네다\n",
      "환영합네다\n",
      "환영합네다\n",
      "환영합네다\n"
     ]
    }
   ],
   "source": [
    "def display(msg,count=1):\n",
    "    for i in range(count):\n",
    "        print(msg)\n",
    "\n",
    "display('환영합네다',56)"
   ],
   "metadata": {
    "collapsed": false,
    "pycharm": {
     "name": "#%%\n"
    }
   }
  },
  {
   "cell_type": "code",
   "execution_count": 12,
   "outputs": [
    {
     "name": "stdout",
     "output_type": "stream",
     "text": [
      "x**2-x-1의 근 : 1.6180419921875\n"
     ]
    }
   ],
   "source": [
    "def f(x):\n",
    "    return (x**2-x-1)\n",
    "\n",
    "\n",
    "def bisection_method(a,b,error):\n",
    "    if f(a)*f(b) > 0:\n",
    "        print('근을 찾을수없음.')\n",
    "    else:\n",
    "        while(b-a)/2.0>error:\n",
    "            midpoint = (a+b)/2.0\n",
    "            if f(midpoint)==0:\n",
    "                return (midpoint)\n",
    "            elif f(a)*f(midpoint)<0:\n",
    "                b=midpoint\n",
    "            else:a = midpoint\n",
    "\n",
    "        return (midpoint)\n",
    "\n",
    "\n",
    "answer = bisection_method(1,2,0.0001)\n",
    "\n",
    "print('x**2-x-1의 근 :',answer)\n"
   ],
   "metadata": {
    "collapsed": false,
    "pycharm": {
     "name": "#%%\n"
    }
   }
  },
  {
   "cell_type": "code",
   "execution_count": 13,
   "outputs": [
    {
     "name": "stdout",
     "output_type": "stream",
     "text": [
      "주급은400\n"
     ]
    }
   ],
   "source": [
    "def weeklyPay (rate,hour):\n",
    "    money = 0\n",
    "    if(hour>30):\n",
    "        money = rate*30+1.5*rate*(hour-30)\n",
    "    else:\n",
    "        money =rate*hour\n",
    "    return money\n",
    "\n",
    "rate = int(input('시급입력!'))\n",
    "hour = int(input('근무 시간을 입력:'))\n",
    "print('주급은'+str(weeklyPay(rate,hour)))"
   ],
   "metadata": {
    "collapsed": false,
    "pycharm": {
     "name": "#%%\n"
    }
   }
  },
  {
   "cell_type": "code",
   "execution_count": 14,
   "outputs": [
    {
     "name": "stdout",
     "output_type": "stream",
     "text": [
      "이름은 ㄴㅁㅇㅁㄴㅇ 이고 나이는 200 살\n"
     ]
    }
   ],
   "source": [
    "def get_info():\n",
    "    name = input('이름:')\n",
    "    age =int(input('나이'))\n",
    "    return name,age\n",
    "\n",
    "st_name , st_age  = get_info()\n",
    "print('이름은',st_name,'이고 나이는',st_age,'살')"
   ],
   "metadata": {
    "collapsed": false,
    "pycharm": {
     "name": "#%%\n"
    }
   }
  },
  {
   "cell_type": "code",
   "execution_count": 19,
   "outputs": [
    {
     "name": "stdout",
     "output_type": "stream",
     "text": [
      "1.섭씨온도 -> 화씨온도\n",
      "2. 화씨온도 -> 섭씨온도\n",
      "종료\n",
      "섭씨 온도  37.77777777777778 \n",
      "\n",
      "1.섭씨온도 -> 화씨온도\n",
      "2. 화씨온도 -> 섭씨온도\n",
      "종료\n",
      "섭씨 온도  1093.3333333333333 \n",
      "\n",
      "1.섭씨온도 -> 화씨온도\n",
      "2. 화씨온도 -> 섭씨온도\n",
      "종료\n"
     ]
    },
    {
     "ename": "ValueError",
     "evalue": "invalid literal for int() with base 10: ''",
     "output_type": "error",
     "traceback": [
      "\u001B[1;31m---------------------------------------------------------------------------\u001B[0m",
      "\u001B[1;31mValueError\u001B[0m                                Traceback (most recent call last)",
      "\u001B[1;32m<ipython-input-19-085b49dd56c2>\u001B[0m in \u001B[0;36m<module>\u001B[1;34m\u001B[0m\n\u001B[0;32m     36\u001B[0m             \u001B[1;32mbreak\u001B[0m\u001B[1;33m\u001B[0m\u001B[1;33m\u001B[0m\u001B[0m\n\u001B[0;32m     37\u001B[0m \u001B[1;33m\u001B[0m\u001B[0m\n\u001B[1;32m---> 38\u001B[1;33m \u001B[0mmain\u001B[0m\u001B[1;33m(\u001B[0m\u001B[1;33m)\u001B[0m\u001B[1;33m\u001B[0m\u001B[1;33m\u001B[0m\u001B[0m\n\u001B[0m\u001B[0;32m     39\u001B[0m \u001B[1;33m\u001B[0m\u001B[0m\n",
      "\u001B[1;32m<ipython-input-19-085b49dd56c2>\u001B[0m in \u001B[0;36mmain\u001B[1;34m()\u001B[0m\n\u001B[0;32m     24\u001B[0m \u001B[1;32mdef\u001B[0m \u001B[0mmain\u001B[0m\u001B[1;33m(\u001B[0m\u001B[1;33m)\u001B[0m\u001B[1;33m:\u001B[0m\u001B[1;33m\u001B[0m\u001B[1;33m\u001B[0m\u001B[0m\n\u001B[0;32m     25\u001B[0m     \u001B[1;32mwhile\u001B[0m \u001B[1;32mTrue\u001B[0m\u001B[1;33m:\u001B[0m\u001B[1;33m\u001B[0m\u001B[1;33m\u001B[0m\u001B[0m\n\u001B[1;32m---> 26\u001B[1;33m         \u001B[0mindex\u001B[0m\u001B[1;33m=\u001B[0m \u001B[0mmenu\u001B[0m\u001B[1;33m(\u001B[0m\u001B[1;33m)\u001B[0m\u001B[1;33m\u001B[0m\u001B[1;33m\u001B[0m\u001B[0m\n\u001B[0m\u001B[0;32m     27\u001B[0m         \u001B[1;32mif\u001B[0m \u001B[0mindex\u001B[0m \u001B[1;33m==\u001B[0m\u001B[1;36m1\u001B[0m\u001B[1;33m:\u001B[0m\u001B[1;33m\u001B[0m\u001B[1;33m\u001B[0m\u001B[0m\n\u001B[0;32m     28\u001B[0m             \u001B[0mt\u001B[0m\u001B[1;33m=\u001B[0m\u001B[0minput_c\u001B[0m\u001B[1;33m(\u001B[0m\u001B[1;33m)\u001B[0m\u001B[1;33m\u001B[0m\u001B[1;33m\u001B[0m\u001B[0m\n",
      "\u001B[1;32m<ipython-input-19-085b49dd56c2>\u001B[0m in \u001B[0;36mmenu\u001B[1;34m()\u001B[0m\n\u001B[0;32m      3\u001B[0m     \u001B[0mprint\u001B[0m\u001B[1;33m(\u001B[0m\u001B[1;34m'2. 화씨온도 -> 섭씨온도'\u001B[0m\u001B[1;33m)\u001B[0m\u001B[1;33m\u001B[0m\u001B[1;33m\u001B[0m\u001B[0m\n\u001B[0;32m      4\u001B[0m     \u001B[0mprint\u001B[0m\u001B[1;33m(\u001B[0m\u001B[1;34m'종료'\u001B[0m\u001B[1;33m)\u001B[0m\u001B[1;33m\u001B[0m\u001B[1;33m\u001B[0m\u001B[0m\n\u001B[1;32m----> 5\u001B[1;33m     \u001B[0mselect\u001B[0m \u001B[1;33m=\u001B[0m \u001B[0mint\u001B[0m\u001B[1;33m(\u001B[0m\u001B[0minput\u001B[0m\u001B[1;33m(\u001B[0m\u001B[1;34m'메뉴 선택 :'\u001B[0m\u001B[1;33m)\u001B[0m\u001B[1;33m)\u001B[0m\u001B[1;33m\u001B[0m\u001B[1;33m\u001B[0m\u001B[0m\n\u001B[0m\u001B[0;32m      6\u001B[0m     \u001B[1;32mreturn\u001B[0m \u001B[0mselect\u001B[0m\u001B[1;33m\u001B[0m\u001B[1;33m\u001B[0m\u001B[0m\n\u001B[0;32m      7\u001B[0m \u001B[1;33m\u001B[0m\u001B[0m\n",
      "\u001B[1;31mValueError\u001B[0m: invalid literal for int() with base 10: ''"
     ]
    }
   ],
   "source": [
    "def menu():\n",
    "    print('1.섭씨온도 -> 화씨온도')\n",
    "    print('2. 화씨온도 -> 섭씨온도')\n",
    "    print('종료')\n",
    "    select = int(input('메뉴 선택 :'))\n",
    "    return select\n",
    "\n",
    "def ctof(c):\n",
    "    temp = c*9.0/5.0 +32\n",
    "    return temp\n",
    "\n",
    "def ftoc(f):\n",
    "    temp = (f-32.0)*5.0/9.0\n",
    "    return temp\n",
    "\n",
    "def input_f():\n",
    "    f = float(input('화씨온도 입력!'))\n",
    "    return f\n",
    "def input_c():\n",
    "    c = float(input('화씨온도 입력!'))\n",
    "    return c\n",
    "\n",
    "\n",
    "def main():\n",
    "    while True:\n",
    "        index= menu()\n",
    "        if index ==1:\n",
    "            t=input_c()\n",
    "            t2 = ctof(t)\n",
    "            print('화씨온도',t2,'\\n')\n",
    "        elif index ==2:\n",
    "            t = input_f()\n",
    "            t2 = ftoc(t)\n",
    "            print('섭씨 온도 ',t2,'\\n')\n",
    "        else:\n",
    "            break\n",
    "\n",
    "main()\n"
   ],
   "metadata": {
    "collapsed": false,
    "pycharm": {
     "name": "#%%\n"
    }
   }
  },
  {
   "cell_type": "code",
   "execution_count": null,
   "outputs": [],
   "source": [],
   "metadata": {
    "collapsed": false,
    "pycharm": {
     "name": "#%%\n"
    }
   }
  }
 ],
 "metadata": {
  "kernelspec": {
   "display_name": "Python 3",
   "language": "python",
   "name": "python3"
  },
  "language_info": {
   "codemirror_mode": {
    "name": "ipython",
    "version": 2
   },
   "file_extension": ".py",
   "mimetype": "text/x-python",
   "name": "python",
   "nbconvert_exporter": "python",
   "pygments_lexer": "ipython2",
   "version": "2.7.6"
  }
 },
 "nbformat": 4,
 "nbformat_minor": 0
}