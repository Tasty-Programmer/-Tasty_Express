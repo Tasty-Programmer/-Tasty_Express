{
 "cells": [
  {
   "cell_type": "code",
   "execution_count": 3,
   "metadata": {
    "collapsed": true
   },
   "outputs": [
    {
     "name": "stdout",
     "output_type": "stream",
     "text": [
      "\n",
      "공통 적인 글자: a s d "
     ]
    }
   ],
   "source": [
    "s1 = input('첫번째 문자열')\n",
    "s2 = input('두번째 문자열')\n",
    "\n",
    "list1 = list(set(s1)&set(s2))\n",
    "\n",
    "print('\\n공통 적인 글자:',end=\" \")\n",
    "for i in list1:\n",
    "    print(i,end=' ')\n",
    "\n",
    "\n"
   ]
  },
  {
   "cell_type": "code",
   "execution_count": 6,
   "outputs": [
    {
     "name": "stdout",
     "output_type": "stream",
     "text": [
      "사용된 단어의 개수=  4\n",
      "{'apple', 'i', 'much', 'have'}\n"
     ]
    }
   ],
   "source": [
    "txt = input('입력 테스트')\n",
    "words = txt.split(' ')\n",
    "unique = set(words)\n",
    "\n",
    "print('사용된 단어의 개수= ',len(unique))\n",
    "print(unique)"
   ],
   "metadata": {
    "collapsed": false,
    "pycharm": {
     "name": "#%%\n"
    }
   }
  },
  {
   "cell_type": "code",
   "execution_count": 10,
   "outputs": [
    {
     "name": "stdout",
     "output_type": "stream",
     "text": [
      "둘\n"
     ]
    }
   ],
   "source": [
    "english_dict = {}\n",
    "\n",
    "english_dict['one']='하나'\n",
    "english_dict['two']='둘'\n",
    "english_dict['three']='셋'\n",
    "\n",
    "word = input('단어 입력:')\n",
    "\n",
    "print(english_dict[word])\n",
    "\n"
   ],
   "metadata": {
    "collapsed": false,
    "pycharm": {
     "name": "#%%\n"
    }
   }
  },
  {
   "cell_type": "code",
   "execution_count": 11,
   "outputs": [
    {
     "name": "stdout",
     "output_type": "stream",
     "text": [
      "1 연락처 추가\n",
      "2 연락처 삭제\n",
      "3 연락처 검색\n",
      "4 연락처 출력\n",
      "5 종료\n",
      "1 연락처 추가\n",
      "2 연락처 삭제\n",
      "3 연락처 검색\n",
      "4 연락처 출력\n",
      "5 종료\n",
      "김현섭 의 전화번호: 01018585\n"
     ]
    }
   ],
   "source": [
    "def main():\n",
    "    address_book={}\n",
    "    while True:\n",
    "        user = display_menu();\n",
    "        if user ==1:\n",
    "            name,number = get_contact()\n",
    "            address_book[name] = number\n",
    "        elif user ==2:\n",
    "            name,number = get_contact()\n",
    "            address_book.pop(name)\n",
    "        elif user ==3:\n",
    "            pass\n",
    "        elif user ==4:\n",
    "            for key in sorted(address_book):\n",
    "                print(key,'의 전화번호:',address_book[key])\n",
    "            else:\n",
    "                break\n",
    "\n",
    "\n",
    "def get_contact():\n",
    "    name = input('이름: ')\n",
    "    number = input('전화번호 :')\n",
    "    return  name,number\n",
    "\n",
    "def display_menu():\n",
    "    print('1 연락처 추가')\n",
    "    print('2 연락처 삭제')\n",
    "    print('3 연락처 검색')\n",
    "    print('4 연락처 출력')\n",
    "    print('5 종료')\n",
    "    select = int(input('메뉴 항목 선택'))\n",
    "    return select\n",
    "\n",
    "\n",
    "main()\n",
    "\n"
   ],
   "metadata": {
    "collapsed": false,
    "pycharm": {
     "name": "#%%\n"
    }
   }
  },
  {
   "cell_type": "code",
   "execution_count": 12,
   "outputs": [
    {
     "name": "stdout",
     "output_type": "stream",
     "text": [
      ", 의 등장 횟수= 1\n",
      "Create 의 등장 횟수= 1\n",
      "because 의 등장 횟수= 1\n",
      "become 의 등장 횟수= 1\n",
      "believe 의 등장 횟수= 1\n",
      "for 의 등장 횟수= 1\n",
      "grandest 의 등장 횟수= 1\n",
      "highest, 의 등장 횟수= 1\n",
      "life 의 등장 횟수= 1\n",
      "possible 의 등장 횟수= 1\n",
      "the 의 등장 횟수= 1\n",
      "vision 의 등장 횟수= 1\n",
      "what 의 등장 횟수= 1\n",
      "you 의 등장 횟수= 2\n",
      "your 의 등장 횟수= 1\n"
     ]
    }
   ],
   "source": [
    "text_data = 'Create the highest, grandest vision possible for your life , because you become what you believe'\n",
    "\n",
    "word_dic = {}\n",
    "for w in text_data.split():\n",
    "    if w in word_dic:\n",
    "        word_dic[w] +=1\n",
    "    else:\n",
    "        word_dic[w] =1\n",
    "\n",
    "\n",
    "for w , count in sorted(word_dic.items()):\n",
    "    print(w,'의 등장 횟수=',count)\n",
    "\n"
   ],
   "metadata": {
    "collapsed": false,
    "pycharm": {
     "name": "#%%\n"
    }
   }
  },
  {
   "cell_type": "code",
   "execution_count": 13,
   "outputs": [
    {
     "name": "stdout",
     "output_type": "stream",
     "text": [
      "회문 입니다.\n"
     ]
    }
   ],
   "source": [
    "s= input('문자열을 입력하시오:')\n",
    "\n",
    "sl =s[::-1]\n",
    "\n",
    "if(s ==s1):\n",
    "    print('회문입니다.')\n",
    "else:\n",
    "    print('회문 입니다.')"
   ],
   "metadata": {
    "collapsed": false,
    "pycharm": {
     "name": "#%%\n"
    }
   }
  },
  {
   "cell_type": "code",
   "execution_count": 14,
   "outputs": [
    {
     "name": "stdout",
     "output_type": "stream",
     "text": [
      "A\n"
     ]
    }
   ],
   "source": [
    "phrase = input('문자열을 입력하시오')\n",
    "\n",
    "acronym = ''\n",
    "\n",
    "for word in phrase.upper().split():\n",
    "    acronym += word[0]\n",
    "\n",
    "print( acronym )"
   ],
   "metadata": {
    "collapsed": false,
    "pycharm": {
     "name": "#%%\n"
    }
   }
  },
  {
   "cell_type": "code",
   "execution_count": 15,
   "outputs": [
    {
     "ename": "ValueError",
     "evalue": "not enough values to unpack (expected 2, got 1)",
     "output_type": "error",
     "traceback": [
      "\u001B[1;31m---------------------------------------------------------------------------\u001B[0m",
      "\u001B[1;31mValueError\u001B[0m                                Traceback (most recent call last)",
      "\u001B[1;32m<ipython-input-15-a1a6a78c1163>\u001B[0m in \u001B[0;36m<module>\u001B[1;34m\u001B[0m\n\u001B[0;32m      1\u001B[0m \u001B[0maddress\u001B[0m \u001B[1;33m=\u001B[0m \u001B[0minput\u001B[0m\u001B[1;33m(\u001B[0m\u001B[1;34m'이메일 주소를 입력하시오 : '\u001B[0m\u001B[1;33m)\u001B[0m\u001B[1;33m\u001B[0m\u001B[1;33m\u001B[0m\u001B[0m\n\u001B[1;32m----> 2\u001B[1;33m \u001B[1;33m(\u001B[0m\u001B[0mid\u001B[0m\u001B[1;33m,\u001B[0m\u001B[0mdomain\u001B[0m\u001B[1;33m)\u001B[0m \u001B[1;33m=\u001B[0m \u001B[0maddress\u001B[0m\u001B[1;33m.\u001B[0m\u001B[0msplit\u001B[0m\u001B[1;33m(\u001B[0m\u001B[1;34m'0'\u001B[0m\u001B[1;33m)\u001B[0m\u001B[1;33m\u001B[0m\u001B[1;33m\u001B[0m\u001B[0m\n\u001B[0m\u001B[0;32m      3\u001B[0m \u001B[1;33m\u001B[0m\u001B[0m\n\u001B[0;32m      4\u001B[0m \u001B[0mprint\u001B[0m\u001B[1;33m(\u001B[0m\u001B[0maddress\u001B[0m\u001B[1;33m)\u001B[0m\u001B[1;33m\u001B[0m\u001B[1;33m\u001B[0m\u001B[0m\n\u001B[0;32m      5\u001B[0m \u001B[0mprint\u001B[0m\u001B[1;33m(\u001B[0m\u001B[1;34m'아이디'\u001B[0m\u001B[1;33m+\u001B[0m\u001B[0mid\u001B[0m\u001B[1;33m)\u001B[0m\u001B[1;33m\u001B[0m\u001B[1;33m\u001B[0m\u001B[0m\n",
      "\u001B[1;31mValueError\u001B[0m: not enough values to unpack (expected 2, got 1)"
     ]
    }
   ],
   "source": [
    "address = input('이메일 주소를 입력하시오 : ')\n",
    "(id,domain) = address.split('0')\n",
    "\n",
    "print(address)\n",
    "print('아이디'+id)\n",
    "print('도메인'+domain)"
   ],
   "metadata": {
    "collapsed": false,
    "pycharm": {
     "name": "#%%\n"
    }
   }
  },
  {
   "cell_type": "code",
   "execution_count": 16,
   "outputs": [
    {
     "name": "stdout",
     "output_type": "stream",
     "text": [
      "{'alphas': 5, 'digits': 0, 'spaces': 0}\n"
     ]
    }
   ],
   "source": [
    "sentence =input('문자열을 입력하시오')\n",
    "\n",
    "table ={'alphas':0,'digits':0,'spaces':0}\n",
    "\n",
    "for i in sentence:\n",
    "    if i.isalpha():\n",
    "        table['alphas']+=1\n",
    "    if i.isdigit():\n",
    "        table['digits']+=1\n",
    "    if i.isspace():\n",
    "        table['spaces']+=1\n",
    "\n",
    "print(table)"
   ],
   "metadata": {
    "collapsed": false,
    "pycharm": {
     "name": "#%%\n"
    }
   }
  },
  {
   "cell_type": "code",
   "execution_count": null,
   "outputs": [],
   "source": [
    "t = 'Python is very easy and powerful'\n",
    "length = len(t.split(''))\n",
    "print(length)"
   ],
   "metadata": {
    "collapsed": false,
    "pycharm": {
     "name": "#%%\n"
    }
   }
  },
  {
   "cell_type": "code",
   "execution_count": 1,
   "outputs": [
    {
     "name": "stdout",
     "output_type": "stream",
     "text": [
      "6875\n"
     ]
    }
   ],
   "source": [
    "import random as rand\n",
    "\n",
    "s= '0123456789'\n",
    "passlen = 4\n",
    "\n",
    "p = ''.join(rand.sample(s,passlen))\n",
    "print(p)"
   ],
   "metadata": {
    "collapsed": false,
    "pycharm": {
     "name": "#%%\n"
    }
   }
  }
 ],
 "metadata": {
  "kernelspec": {
   "display_name": "Python 3",
   "language": "python",
   "name": "python3"
  },
  "language_info": {
   "codemirror_mode": {
    "name": "ipython",
    "version": 2
   },
   "file_extension": ".py",
   "mimetype": "text/x-python",
   "name": "python",
   "nbconvert_exporter": "python",
   "pygments_lexer": "ipython2",
   "version": "2.7.6"
  }
 },
 "nbformat": 4,
 "nbformat_minor": 0
}