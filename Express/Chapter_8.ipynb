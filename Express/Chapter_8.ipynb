{
 "cells": [
  {
   "cell_type": "code",
   "execution_count": null,
   "metadata": {
    "collapsed": true,
    "pycharm": {
     "name": "#%%\n"
    }
   },
   "outputs": [],
   "source": [
    "import math as m\n",
    "\n",
    "class Circle:\n",
    "    def __init__(self,radius =0):\n",
    "        self.radius = radius\n",
    "\n",
    "    def getArea(self):\n",
    "        return m.pi * self.radius * self.radius\n",
    "\n",
    "    def getPerimeter(self):\n",
    "        return 2 * m.pi * self.radius\n",
    "\n",
    "\n",
    "c = Circle(10)\n",
    "print('원의 면적',c.getArea())\n",
    "print('원의 둘레',c.getPerimeter())"
   ]
  },
  {
   "cell_type": "code",
   "execution_count": null,
   "outputs": [],
   "source": [
    "class Student:\n",
    "    def __init__(self,name = None,age =0):\n",
    "        self.__name = name\n",
    "        self.__age = age\n",
    "    def getAge(self):\n",
    "        return self.__age\n",
    "\n",
    "    def getName(self):\n",
    "        return self.__name\n",
    "\n",
    "    def setAge(self,age):\n",
    "        self.__age=age\n",
    "\n",
    "    def setName(self,name):\n",
    "        self.__name=name\n",
    "\n",
    "obj = Student(\"Hong\",20)\n",
    "obj.getName()"
   ],
   "metadata": {
    "collapsed": false,
    "pycharm": {
     "name": "#%%\n"
    }
   }
  },
  {
   "cell_type": "code",
   "execution_count": 3,
   "outputs": [
    {
     "name": "stdout",
     "output_type": "stream",
     "text": [
      "통장에 100  가 출금 되었음\n",
      "통장에 10 가 입금되었음\n"
     ]
    },
    {
     "data": {
      "text/plain": "90"
     },
     "execution_count": 3,
     "metadata": {},
     "output_type": "execute_result"
    }
   ],
   "source": [
    "class BankAcount:\n",
    "    def __init__(self):\n",
    "        self.__balance = 0\n",
    "\n",
    "    def withdraw(self,amount):\n",
    "        self.__balance -= amount\n",
    "        print('통장에',amount,'가 입금되었음')\n",
    "        return self.__balance\n",
    "\n",
    "    def deposit(self,amount):\n",
    "        self.__balance += amount\n",
    "        print('통장에',amount,' 가 출금 되었음')\n",
    "        return self.__balance\n",
    "\n",
    "a= BankAcount()\n",
    "a.deposit(100)\n",
    "a.withdraw(10)"
   ],
   "metadata": {
    "collapsed": false,
    "pycharm": {
     "name": "#%%\n"
    }
   }
  },
  {
   "cell_type": "code",
   "execution_count": 6,
   "outputs": [
    {
     "name": "stdout",
     "output_type": "stream",
     "text": [
      "Bulldog\n",
      "Bulldog\n",
      "Bulldog\n",
      "Baduk\n",
      "Marry\n"
     ]
    }
   ],
   "source": [
    "class Dog:\n",
    "    kind = 'Bulldog'\n",
    "    def __init__(self,name,age = 0):\n",
    "        self.name = name\n",
    "        self.age = age\n",
    "\n",
    "\n",
    "a = Dog('Baduk',2)\n",
    "b = Dog('Marry',3)\n",
    "\n",
    "print(a.kind)\n",
    "print(b.kind)\n",
    "print(Dog.kind)\n",
    "\n",
    "print(a.name)\n",
    "print(b.name)"
   ],
   "metadata": {
    "collapsed": false,
    "pycharm": {
     "name": "#%%\n"
    }
   }
  },
  {
   "cell_type": "code",
   "execution_count": 7,
   "outputs": [
    {
     "name": "stdout",
     "output_type": "stream",
     "text": [
      "(1,1)\n"
     ]
    }
   ],
   "source": [
    "class Vector2D:\n",
    "    def __init__(self,x,y):\n",
    "        self.x = x\n",
    "        self.y = y\n",
    "\n",
    "    def __add__(self, other):\n",
    "        return Vector2D(self.x+other.x,self.y+other.y)\n",
    "\n",
    "    def __sub__(self, other):\n",
    "        return Vector2D(self.x-other.x,self.y-other.y)\n",
    "\n",
    "    def __eq__(self, other):\n",
    "        return self.x == other.x and self.y == other.y\n",
    "\n",
    "    def __str__(self):\n",
    "        return  '(%g,%g)' % (self.x,self.y)\n",
    "\n",
    "\n",
    "u = Vector2D(0,1)\n",
    "v = Vector2D(1,0)\n",
    "w = Vector2D(1,1)\n",
    "\n",
    "a = u+v\n",
    "print( a)\n"
   ],
   "metadata": {
    "collapsed": false,
    "pycharm": {
     "name": "#%%\n"
    }
   }
  },
  {
   "cell_type": "code",
   "execution_count": 8,
   "outputs": [
    {
     "name": "stdout",
     "output_type": "stream",
     "text": [
      "주사위의 값= 3\n"
     ]
    }
   ],
   "source": [
    "from random import randint\n",
    "\n",
    "class Dice :\n",
    "\n",
    "    def __init__(self,x,y):\n",
    "        self.__x = x\n",
    "        self.__y = y\n",
    "        self.__size = 30\n",
    "        self.__value = 1\n",
    "\n",
    "    def read_dice(self):\n",
    "        return self.__value\n",
    "\n",
    "    def print_dice(self):\n",
    "        print('주사위의 값=' , self.__value)\n",
    "\n",
    "    def roll_dice(self):\n",
    "        self.__value=randint(1,6)\n",
    "\n",
    "d = Dice(100,100)\n",
    "d.roll_dice()\n",
    "d.print_dice()"
   ],
   "metadata": {
    "collapsed": false,
    "pycharm": {
     "name": "#%%\n"
    }
   }
  }
 ],
 "metadata": {
  "kernelspec": {
   "display_name": "Python 3",
   "language": "python",
   "name": "python3"
  },
  "language_info": {
   "codemirror_mode": {
    "name": "ipython",
    "version": 2
   },
   "file_extension": ".py",
   "mimetype": "text/x-python",
   "name": "python",
   "nbconvert_exporter": "python",
   "pygments_lexer": "ipython2",
   "version": "2.7.6"
  }
 },
 "nbformat": 4,
 "nbformat_minor": 0
}