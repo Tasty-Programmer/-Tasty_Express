{
 "cells": [
  {
   "cell_type": "code",
   "execution_count": 4,
   "metadata": {
    "collapsed": true
   },
   "outputs": [
    {
     "name": "stdout",
     "output_type": "stream",
     "text": [
      "배송비 = 0 가격 20000\n"
     ]
    }
   ],
   "source": [
    "price =int(input(\"가격 입력\"))\n",
    "\n",
    "if price >= 20000:\n",
    "    shipping_cost = 0\n",
    "    discount = 0.1\n",
    "else:\n",
    "    shipping_cost = 3000\n",
    "\n",
    "print(\"배송비 =\" ,shipping_cost,\"가격\",price)"
   ]
  },
  {
   "cell_type": "code",
   "execution_count": 5,
   "outputs": [
    {
     "name": "stdout",
     "output_type": "stream",
     "text": [
      "True\n"
     ]
    }
   ],
   "source": [
    "radius = 100\n",
    "flag = (radius>32)\n",
    "print(flag)"
   ],
   "metadata": {
    "collapsed": false,
    "pycharm": {
     "name": "#%%\n"
    }
   }
  },
  {
   "cell_type": "code",
   "execution_count": 6,
   "outputs": [
    {
     "name": "stdout",
     "output_type": "stream",
     "text": [
      "True\n"
     ]
    }
   ],
   "source": [
    "s1 = \"Audrey Hepburn\"\n",
    "s2 = \"Audrey Hepburn\"\n",
    "print(s1==s2)"
   ],
   "metadata": {
    "collapsed": false,
    "pycharm": {
     "name": "#%%\n"
    }
   }
  },
  {
   "cell_type": "code",
   "execution_count": 8,
   "outputs": [
    {
     "name": "stdout",
     "output_type": "stream",
     "text": [
      "sqrt(3.0)*sqrt(3.0)은 같지않다.\n"
     ]
    }
   ],
   "source": [
    "from math import sqrt\n",
    "\n",
    "n = sqrt(3.0)\n",
    "if n*n == 3.0:\n",
    "    print (\"sqrt(3.0)*sqrt(3.0)은 3.0과 같다.\")\n",
    "else:\n",
    "    print(\"sqrt(3.0)*sqrt(3.0)은 같지않다.\")"
   ],
   "metadata": {
    "collapsed": false,
    "pycharm": {
     "name": "#%%\n"
    }
   }
  },
  {
   "cell_type": "code",
   "execution_count": 9,
   "outputs": [
    {
     "name": "stdout",
     "output_type": "stream",
     "text": [
      "True\n"
     ]
    }
   ],
   "source": [
    "import random as rand\n",
    "x = rand.randint(1,1000)\n",
    "y = rand.randint(1,1000)\n",
    "\n",
    "answer = int(input(f\"{x}+{y} = \"))\n",
    "\n",
    "flag = (answer==(x+y))\n",
    "print(flag)"
   ],
   "metadata": {
    "collapsed": false,
    "pycharm": {
     "name": "#%%\n"
    }
   }
  },
  {
   "cell_type": "code",
   "execution_count": 10,
   "outputs": [
    {
     "name": "stdout",
     "output_type": "stream",
     "text": [
      "True\n"
     ]
    }
   ],
   "source": [
    "import random as rand\n",
    "x = rand.randint(1,1000)\n",
    "y = rand.randint(1,1000)\n",
    "\n",
    "answer = int(input(f\"{x}-{y} = \"))\n",
    "\n",
    "flag = (answer==(x-y))\n",
    "print(flag)"
   ],
   "metadata": {
    "collapsed": false,
    "pycharm": {
     "name": "#%%\n"
    }
   }
  },
  {
   "cell_type": "code",
   "execution_count": 1,
   "outputs": [
    {
     "name": "stdout",
     "output_type": "stream",
     "text": [
      "큰수 = 30 작은수= 20\n"
     ]
    }
   ],
   "source": [
    "x = int(input(\"First int\"))\n",
    "y = int(input(\"Second int\"))\n",
    "\n",
    "max_value = (x if x > y else y)\n",
    "min_value = (y if x > y else x)\n",
    "print(\"큰수 =\",max_value,\"작은수=\",min_value)"
   ],
   "metadata": {
    "collapsed": false,
    "pycharm": {
     "name": "#%%\n"
    }
   }
  },
  {
   "cell_type": "code",
   "execution_count": 4,
   "outputs": [
    {
     "name": "stdout",
     "output_type": "stream",
     "text": [
      "minor\n"
     ]
    }
   ],
   "source": [
    "age = int(input(\"나이입력\"))\n",
    "if age < 21:\n",
    "    print(\"minor\")\n",
    "else:\n",
    "    print(\"adult\")"
   ],
   "metadata": {
    "collapsed": false,
    "pycharm": {
     "name": "#%%\n"
    }
   }
  },
  {
   "cell_type": "code",
   "execution_count": 5,
   "outputs": [
    {
     "name": "stdout",
     "output_type": "stream",
     "text": [
      "even\n"
     ]
    }
   ],
   "source": [
    "number = int(input(\"input integer\"))\n",
    "\n",
    "if number % 2 ==0:\n",
    "    print(\"even\")\n",
    "else:\n",
    "    print(\"odd\")"
   ],
   "metadata": {
    "collapsed": false,
    "pycharm": {
     "name": "#%%\n"
    }
   }
  },
  {
   "cell_type": "code",
   "execution_count": 6,
   "outputs": [
    {
     "name": "stdout",
     "output_type": "stream",
     "text": [
      "음수\n"
     ]
    }
   ],
   "source": [
    "number = int(input(\"input integer\"))\n",
    "\n",
    "if number >= 0 :\n",
    "    print(\"양수\")\n",
    "else:\n",
    "    print(\"음수\")"
   ],
   "metadata": {
    "collapsed": false,
    "pycharm": {
     "name": "#%%\n"
    }
   }
  },
  {
   "cell_type": "code",
   "execution_count": null,
   "outputs": [],
   "source": [],
   "metadata": {
    "collapsed": false,
    "pycharm": {
     "name": "#%%\n"
    }
   }
  },
  {
   "cell_type": "code",
   "execution_count": null,
   "outputs": [],
   "source": [],
   "metadata": {
    "collapsed": false,
    "pycharm": {
     "name": "#%%\n"
    }
   }
  },
  {
   "cell_type": "code",
   "execution_count": null,
   "outputs": [],
   "source": [],
   "metadata": {
    "collapsed": false,
    "pycharm": {
     "name": "#%%\n"
    }
   }
  },
  {
   "cell_type": "code",
   "execution_count": null,
   "outputs": [],
   "source": [],
   "metadata": {
    "collapsed": false,
    "pycharm": {
     "name": "#%%\n"
    }
   }
  }
 ],
 "metadata": {
  "kernelspec": {
   "display_name": "Python 3",
   "language": "python",
   "name": "python3"
  },
  "language_info": {
   "codemirror_mode": {
    "name": "ipython",
    "version": 2
   },
   "file_extension": ".py",
   "mimetype": "text/x-python",
   "name": "python",
   "nbconvert_exporter": "python",
   "pygments_lexer": "ipython2",
   "version": "2.7.6"
  }
 },
 "nbformat": 4,
 "nbformat_minor": 0
}