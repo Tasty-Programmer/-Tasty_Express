{
 "cells": [
  {
   "cell_type": "code",
   "execution_count": 4,
   "metadata": {
    "collapsed": true
   },
   "outputs": [
    {
     "name": "stdout",
     "output_type": "stream",
     "text": [
      "배송비 = 0 가격 20000\n"
     ]
    }
   ],
   "source": [
    "price =int(input(\"가격 입력\"))\n",
    "\n",
    "if price >= 20000:\n",
    "    shipping_cost = 0\n",
    "    discount = 0.1\n",
    "else:\n",
    "    shipping_cost = 3000\n",
    "\n",
    "print(\"배송비 =\" ,shipping_cost,\"가격\",price)"
   ]
  },
  {
   "cell_type": "code",
   "execution_count": 5,
   "outputs": [
    {
     "name": "stdout",
     "output_type": "stream",
     "text": [
      "True\n"
     ]
    }
   ],
   "source": [
    "radius = 100\n",
    "flag = (radius>32)\n",
    "print(flag)"
   ],
   "metadata": {
    "collapsed": false,
    "pycharm": {
     "name": "#%%\n"
    }
   }
  },
  {
   "cell_type": "code",
   "execution_count": 6,
   "outputs": [
    {
     "name": "stdout",
     "output_type": "stream",
     "text": [
      "True\n"
     ]
    }
   ],
   "source": [
    "s1 = \"Audrey Hepburn\"\n",
    "s2 = \"Audrey Hepburn\"\n",
    "print(s1==s2)"
   ],
   "metadata": {
    "collapsed": false,
    "pycharm": {
     "name": "#%%\n"
    }
   }
  },
  {
   "cell_type": "code",
   "execution_count": 8,
   "outputs": [
    {
     "name": "stdout",
     "output_type": "stream",
     "text": [
      "sqrt(3.0)*sqrt(3.0)은 같지않다.\n"
     ]
    }
   ],
   "source": [
    "from math import sqrt\n",
    "\n",
    "n = sqrt(3.0)\n",
    "if n*n == 3.0:\n",
    "    print (\"sqrt(3.0)*sqrt(3.0)은 3.0과 같다.\")\n",
    "else:\n",
    "    print(\"sqrt(3.0)*sqrt(3.0)은 같지않다.\")"
   ],
   "metadata": {
    "collapsed": false,
    "pycharm": {
     "name": "#%%\n"
    }
   }
  },
  {
   "cell_type": "code",
   "execution_count": 9,
   "outputs": [
    {
     "name": "stdout",
     "output_type": "stream",
     "text": [
      "True\n"
     ]
    }
   ],
   "source": [
    "import random as rand\n",
    "x = rand.randint(1,1000)\n",
    "y = rand.randint(1,1000)\n",
    "\n",
    "answer = int(input(f\"{x}+{y} = \"))\n",
    "\n",
    "flag = (answer==(x+y))\n",
    "print(flag)"
   ],
   "metadata": {
    "collapsed": false,
    "pycharm": {
     "name": "#%%\n"
    }
   }
  },
  {
   "cell_type": "code",
   "execution_count": 10,
   "outputs": [
    {
     "name": "stdout",
     "output_type": "stream",
     "text": [
      "True\n"
     ]
    }
   ],
   "source": [
    "import random as rand\n",
    "x = rand.randint(1,1000)\n",
    "y = rand.randint(1,1000)\n",
    "\n",
    "answer = int(input(f\"{x}-{y} = \"))\n",
    "\n",
    "flag = (answer==(x-y))\n",
    "print(flag)"
   ],
   "metadata": {
    "collapsed": false,
    "pycharm": {
     "name": "#%%\n"
    }
   }
  },
  {
   "cell_type": "code",
   "execution_count": 1,
   "outputs": [
    {
     "name": "stdout",
     "output_type": "stream",
     "text": [
      "큰수 = 30 작은수= 20\n"
     ]
    }
   ],
   "source": [
    "x = int(input(\"First int\"))\n",
    "y = int(input(\"Second int\"))\n",
    "\n",
    "max_value = (x if x > y else y)\n",
    "min_value = (y if x > y else x)\n",
    "print(\"큰수 =\",max_value,\"작은수=\",min_value)"
   ],
   "metadata": {
    "collapsed": false,
    "pycharm": {
     "name": "#%%\n"
    }
   }
  },
  {
   "cell_type": "code",
   "execution_count": 4,
   "outputs": [
    {
     "name": "stdout",
     "output_type": "stream",
     "text": [
      "minor\n"
     ]
    }
   ],
   "source": [
    "age = int(input(\"나이입력\"))\n",
    "if age < 21:\n",
    "    print(\"minor\")\n",
    "else:\n",
    "    print(\"adult\")"
   ],
   "metadata": {
    "collapsed": false,
    "pycharm": {
     "name": "#%%\n"
    }
   }
  },
  {
   "cell_type": "code",
   "execution_count": 5,
   "outputs": [
    {
     "name": "stdout",
     "output_type": "stream",
     "text": [
      "even\n"
     ]
    }
   ],
   "source": [
    "number = int(input(\"input integer\"))\n",
    "\n",
    "if number % 2 ==0:\n",
    "    print(\"even\")\n",
    "else:\n",
    "    print(\"odd\")"
   ],
   "metadata": {
    "collapsed": false,
    "pycharm": {
     "name": "#%%\n"
    }
   }
  },
  {
   "cell_type": "code",
   "execution_count": 6,
   "outputs": [
    {
     "name": "stdout",
     "output_type": "stream",
     "text": [
      "음수\n"
     ]
    }
   ],
   "source": [
    "number = int(input(\"input integer\"))\n",
    "\n",
    "if number >= 0 :\n",
    "    print(\"양수\")\n",
    "else:\n",
    "    print(\"음수\")"
   ],
   "metadata": {
    "collapsed": false,
    "pycharm": {
     "name": "#%%\n"
    }
   }
  },
  {
   "cell_type": "code",
   "execution_count": 7,
   "outputs": [
    {
     "name": "stdout",
     "output_type": "stream",
     "text": [
      "합격입니다.\n"
     ]
    }
   ],
   "source": [
    "grade = int(input(\"input ur score\"))\n",
    "\n",
    "if grade >=60:\n",
    "    print(\"합격입니다.\")\n",
    "else:\n",
    "    print(\"불합격입네다.\")"
   ],
   "metadata": {
    "collapsed": false,
    "pycharm": {
     "name": "#%%\n"
    }
   }
  },
  {
   "cell_type": "code",
   "execution_count": 1,
   "outputs": [
    {
     "name": "stdout",
     "output_type": "stream",
     "text": [
      "10층에서 사은품 받아가세요\n",
      "할인된 상품의 가격= 170.0\n"
     ]
    }
   ],
   "source": [
    "price = int(input(\"정가 입력!\"))\n",
    "if price >= 100:\n",
    "    dis_rate = 0.85\n",
    "    print(\"10층에서 사은품 받아가세요\")\n",
    "else:\n",
    "    dis_rate = 0.90\n",
    "dis_price = dis_rate * price\n",
    "print(\"할인된 상품의 가격=\" , dis_price)"
   ],
   "metadata": {
    "collapsed": false,
    "pycharm": {
     "name": "#%%\n"
    }
   }
  },
  {
   "cell_type": "code",
   "execution_count": 3,
   "outputs": [
    {
     "name": "stdout",
     "output_type": "stream",
     "text": [
      "배송료가 존재 하지 않습니다.\n"
     ]
    }
   ],
   "source": [
    "price  = int(input(\"가격을 입력하시오: \"))\n",
    "card = input(\"카드 종류를 입력하시오 : \")\n",
    "\n",
    "if price >20000 and card == 'python':\n",
    "    print('배송료가 존재 하지 않습니다.')\n",
    "else:\n",
    "    print('배송료는 3000원입니다.')"
   ],
   "metadata": {
    "collapsed": false,
    "pycharm": {
     "name": "#%%\n"
    }
   }
  },
  {
   "cell_type": "code",
   "execution_count": 4,
   "outputs": [
    {
     "name": "stdout",
     "output_type": "stream",
     "text": [
      "반댈세\n"
     ]
    }
   ],
   "source": [
    "age = int(input(' How Old R U? :'))\n",
    "income = int(input(' what is UR income? : (1만기준)'))\n",
    "\n",
    "if age >=25 and income >= 3500:\n",
    "    print('내딸과 결혼하게나')\n",
    "else:\n",
    "    print('반댈세')"
   ],
   "metadata": {
    "collapsed": false,
    "pycharm": {
     "name": "#%%\n"
    }
   }
  },
  {
   "cell_type": "code",
   "execution_count": 7,
   "outputs": [
    {
     "name": "stdout",
     "output_type": "stream",
     "text": [
      "물의 상태는 얼음입니다.\n"
     ]
    }
   ],
   "source": [
    "temp = float(input('온도 입력:  '))\n",
    "\n",
    "if temp <= 0:\n",
    "    print('물의 상태는 얼음입니다.')\n",
    "elif temp > 0 and temp < 100:\n",
    "    print('물의 상태는 액체')\n",
    "else:\n",
    "    print('물의 상태는 기체')\n"
   ],
   "metadata": {
    "collapsed": false,
    "pycharm": {
     "name": "#%%\n"
    }
   }
  },
  {
   "cell_type": "code",
   "execution_count": 18,
   "outputs": [
    {
     "name": "stdout",
     "output_type": "stream",
     "text": [
      "동전 던지기 시작\n",
      "앞\n",
      "종료!\n"
     ]
    }
   ],
   "source": [
    "import random as rand\n",
    "\n",
    "print('동전 던지기 시작')\n",
    "coin = rand.randrange(2)\n",
    "if coin ==1:\n",
    "    print('앞')\n",
    "else:\n",
    "    print('뒤')\n",
    "\n",
    "print('종료!')"
   ],
   "metadata": {
    "collapsed": false,
    "pycharm": {
     "name": "#%%\n"
    }
   }
  },
  {
   "cell_type": "code",
   "execution_count": 22,
   "outputs": [
    {
     "name": "stdout",
     "output_type": "stream",
     "text": [
      "주사위 던지기 시작\n",
      "6\n"
     ]
    }
   ],
   "source": [
    "print('주사위 던지기 시작')\n",
    "dice = rand.randrange(6)\n",
    "if dice == 1 :\n",
    "    print('1')\n",
    "elif dice == 2 :\n",
    "    print('2')\n",
    "elif dice == 3 :\n",
    "    print('3')\n",
    "elif dice == 4:\n",
    "    print('4')\n",
    "elif dice == 5:\n",
    "    print('5')\n",
    "else:\n",
    "    print('6')\n",
    "\n",
    "print( '끝' )"
   ],
   "metadata": {
    "collapsed": false,
    "pycharm": {
     "name": "#%%\n"
    }
   }
  },
  {
   "cell_type": "code",
   "execution_count": 23,
   "outputs": [
    {
     "name": "stdout",
     "output_type": "stream",
     "text": [
      "배송비 0\n"
     ]
    }
   ],
   "source": [
    "country = input('나라 입력 : us or korea')\n",
    "price = int(input('상품의 가격 :'))\n",
    "\n",
    "if country == 'korea':\n",
    "    if price>= 20000:\n",
    "        shipping_cost = 0\n",
    "    else:\n",
    "        shipping_cost = 3000\n",
    "else:\n",
    "    if price >= 100000:\n",
    "        shipping_cost = 0\n",
    "    else:\n",
    "        shipping_cost = 5000\n",
    "\n",
    "print('배송비',shipping_cost)"
   ],
   "metadata": {
    "collapsed": false,
    "pycharm": {
     "name": "#%%\n"
    }
   }
  },
  {
   "cell_type": "code",
   "execution_count": 24,
   "outputs": [
    {
     "name": "stdout",
     "output_type": "stream",
     "text": [
      "F 재수강\n"
     ]
    }
   ],
   "source": [
    "score = int(input('점수 입력'))\n",
    "\n",
    "if score >= 60 :\n",
    "    print('D')\n",
    "elif score >=70:\n",
    "    print('C')\n",
    "elif score >= 80:\n",
    "    print('B')\n",
    "elif score >= 90:\n",
    "    print('A')\n",
    "else:\n",
    "    print('F 재수강')\n"
   ],
   "metadata": {
    "collapsed": false,
    "pycharm": {
     "name": "#%%\n"
    }
   }
  },
  {
   "cell_type": "code",
   "execution_count": 25,
   "outputs": [
    {
     "name": "stdout",
     "output_type": "stream",
     "text": [
      "대부분의 구조물 파괴\n"
     ]
    }
   ],
   "source": [
    "scale = float(input('지진의 규모는?'))\n",
    "\n",
    "if scale >=8.0:\n",
    "    print('대부분의 구조물 파괴')\n",
    "elif scale >=7.0:\n",
    "    print('지표면의 균열 발생')\n",
    "elif scale >=4.0:\n",
    "    print('빈약한 건물에 손해발생')\n",
    "elif scale>=2.0:\n",
    "    print('물건 떨어진다~')\n",
    "else:\n",
    "    print('인간은 탐지할수없음')\n",
    "\n",
    "\n",
    "\n",
    "\n"
   ],
   "metadata": {
    "collapsed": false,
    "pycharm": {
     "name": "#%%\n"
    }
   }
  },
  {
   "cell_type": "code",
   "execution_count": 26,
   "outputs": [
    {
     "name": "stdout",
     "output_type": "stream",
     "text": [
      "행운의 매직박으로 오늘의 운세를 출력합니다.\n",
      "치과?\n"
     ]
    }
   ],
   "source": [
    "print(\"행운의 매직박으로 오늘의 운세를 출력합니다.\")\n",
    "answer = rand.randint(1,8)\n",
    "if answer == 1:\n",
    "    print('확실히 치과를 가세요')\n",
    "elif answer ==2:\n",
    "    print('약간 치과 의심')\n",
    "elif answer == 3:\n",
    "    print('치과 의심')\n",
    "elif answer == 4:\n",
    "    print('치과?')\n",
    "else:\n",
    "    print('가지마세요')\n"
   ],
   "metadata": {
    "collapsed": false,
    "pycharm": {
     "name": "#%%\n"
    }
   }
  },
  {
   "cell_type": "code",
   "execution_count": 28,
   "outputs": [
    {
     "name": "stdout",
     "output_type": "stream",
     "text": [
      "===================================================\n",
      "1번메뉴?\n",
      "2번메뉴?\n",
      "3번메뉴?\n",
      "===================================================\n",
      "menu 2\n"
     ]
    }
   ],
   "source": [
    "print('===================================================')\n",
    "print('1번메뉴?')\n",
    "print('2번메뉴?')\n",
    "print('3번메뉴?')\n",
    "print('===================================================')\n",
    "selection = int(input('입력'))\n",
    "\n",
    "if 1 <= selection <= 3:\n",
    "    print('menu',selection)\n",
    "else:\n",
    "    print('wrong menu selection')\n"
   ],
   "metadata": {
    "collapsed": false,
    "pycharm": {
     "name": "#%%\n"
    }
   }
  },
  {
   "cell_type": "code",
   "execution_count": 29,
   "outputs": [
    {
     "name": "stdout",
     "output_type": "stream",
     "text": [
      "고올!!!!!!!\n"
     ]
    }
   ],
   "source": [
    "com_choice = rand.randint(1,3)\n",
    "user_choice = int(input('당신의 킥은?'))\n",
    "\n",
    "if com_choice == user_choice :\n",
    "    print('막혔습니다.')\n",
    "else:\n",
    "    print('고올!!!!!!!')\n",
    "    "
   ],
   "metadata": {
    "collapsed": false,
    "pycharm": {
     "name": "#%%\n"
    }
   }
  },
  {
   "cell_type": "code",
   "execution_count": null,
   "outputs": [],
   "source": [],
   "metadata": {
    "collapsed": false,
    "pycharm": {
     "name": "#%%\n"
    }
   }
  },
  {
   "cell_type": "code",
   "execution_count": null,
   "outputs": [],
   "source": [],
   "metadata": {
    "collapsed": false,
    "pycharm": {
     "name": "#%%\n"
    }
   }
  },
  {
   "cell_type": "code",
   "execution_count": null,
   "outputs": [],
   "source": [],
   "metadata": {
    "collapsed": false,
    "pycharm": {
     "name": "#%%\n"
    }
   }
  },
  {
   "cell_type": "code",
   "execution_count": null,
   "outputs": [],
   "source": [],
   "metadata": {
    "collapsed": false,
    "pycharm": {
     "name": "#%%\n"
    }
   }
  }
 ],
 "metadata": {
  "kernelspec": {
   "display_name": "Python 3",
   "language": "python",
   "name": "python3"
  },
  "language_info": {
   "codemirror_mode": {
    "name": "ipython",
    "version": 2
   },
   "file_extension": ".py",
   "mimetype": "text/x-python",
   "name": "python",
   "nbconvert_exporter": "python",
   "pygments_lexer": "ipython2",
   "version": "2.7.6"
  }
 },
 "nbformat": 4,
 "nbformat_minor": 0
}