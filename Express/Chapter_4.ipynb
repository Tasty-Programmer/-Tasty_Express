{
 "cells": [
  {
   "cell_type": "code",
   "execution_count": 2,
   "metadata": {
    "collapsed": true
   },
   "outputs": [
    {
     "name": "stdout",
     "output_type": "stream",
     "text": [
      "10 9 8 7 6 5 4 3 2 1 "
     ]
    }
   ],
   "source": [
    "for i in range(10 , 0 , -1):\n",
    "    print(i , end=' ')"
   ]
  },
  {
   "cell_type": "code",
   "execution_count": 3,
   "outputs": [
    {
     "name": "stdout",
     "output_type": "stream",
     "text": [
      "합 55\n"
     ]
    }
   ],
   "source": [
    "sum = 0\n",
    "n = 10\n",
    "for i in range(1, n+1):\n",
    "    sum = sum + i\n",
    "\n",
    "print('합', sum)"
   ],
   "metadata": {
    "collapsed": false,
    "pycharm": {
     "name": "#%%\n"
    }
   }
  },
  {
   "cell_type": "code",
   "execution_count": 4,
   "outputs": [
    {
     "name": "stdout",
     "output_type": "stream",
     "text": [
      "9 * 1 = 9\n",
      "9 * 2 = 18\n",
      "9 * 3 = 27\n",
      "9 * 4 = 36\n",
      "9 * 5 = 45\n"
     ]
    }
   ],
   "source": [
    "for i in range(1,6):\n",
    "    print('9 *',i,'=',9*i)"
   ],
   "metadata": {
    "collapsed": false,
    "pycharm": {
     "name": "#%%\n"
    }
   }
  },
  {
   "cell_type": "code",
   "execution_count": 5,
   "outputs": [
    {
     "name": "stdout",
     "output_type": "stream",
     "text": [
      "2\n",
      "4\n",
      "6\n",
      "8\n"
     ]
    }
   ],
   "source": [
    "for i in range(1,5,1):\n",
    "    print(2*i)\n"
   ],
   "metadata": {
    "collapsed": false,
    "pycharm": {
     "name": "#%%\n"
    }
   }
  },
  {
   "cell_type": "code",
   "execution_count": 6,
   "outputs": [
    {
     "name": "stdout",
     "output_type": "stream",
     "text": [
      "student10\n",
      "student8\n",
      "student6\n",
      "student4\n",
      "student2\n"
     ]
    }
   ],
   "source": [
    "for i in range(10,0,-2):\n",
    "    print('student'+str(i))"
   ],
   "metadata": {
    "collapsed": false,
    "pycharm": {
     "name": "#%%\n"
    }
   }
  },
  {
   "cell_type": "code",
   "execution_count": 7,
   "outputs": [
    {
     "ename": "ValueError",
     "evalue": "invalid literal for int() with base 10: ''",
     "output_type": "error",
     "traceback": [
      "\u001B[1;31m---------------------------------------------------------------------------\u001B[0m",
      "\u001B[1;31mValueError\u001B[0m                                Traceback (most recent call last)",
      "\u001B[1;32m<ipython-input-7-b98a0d67b156>\u001B[0m in \u001B[0;36m<module>\u001B[1;34m\u001B[0m\n\u001B[1;32m----> 1\u001B[1;33m \u001B[0mn\u001B[0m \u001B[1;33m=\u001B[0m \u001B[0mint\u001B[0m\u001B[1;33m(\u001B[0m\u001B[0minput\u001B[0m\u001B[1;33m(\u001B[0m\u001B[1;34m'정수 입력'\u001B[0m\u001B[1;33m)\u001B[0m\u001B[1;33m)\u001B[0m\u001B[1;33m\u001B[0m\u001B[1;33m\u001B[0m\u001B[0m\n\u001B[0m\u001B[0;32m      2\u001B[0m \u001B[0mfact\u001B[0m \u001B[1;33m=\u001B[0m \u001B[1;36m1\u001B[0m\u001B[1;33m\u001B[0m\u001B[1;33m\u001B[0m\u001B[0m\n\u001B[0;32m      3\u001B[0m \u001B[1;32mfor\u001B[0m \u001B[0mi\u001B[0m \u001B[1;32min\u001B[0m \u001B[0mrange\u001B[0m\u001B[1;33m(\u001B[0m\u001B[1;36m1\u001B[0m\u001B[1;33m,\u001B[0m\u001B[0mn\u001B[0m\u001B[1;33m+\u001B[0m\u001B[1;36m1\u001B[0m\u001B[1;33m)\u001B[0m\u001B[1;33m:\u001B[0m\u001B[1;33m\u001B[0m\u001B[1;33m\u001B[0m\u001B[0m\n\u001B[0;32m      4\u001B[0m     \u001B[0mfact\u001B[0m \u001B[1;33m=\u001B[0m \u001B[0mfact\u001B[0m\u001B[1;33m*\u001B[0m\u001B[0mi\u001B[0m\u001B[1;33m\u001B[0m\u001B[1;33m\u001B[0m\u001B[0m\n\u001B[0;32m      5\u001B[0m \u001B[1;33m\u001B[0m\u001B[0m\n",
      "\u001B[1;31mValueError\u001B[0m: invalid literal for int() with base 10: ''"
     ]
    }
   ],
   "source": [
    "n = int(input('정수 입력'))\n",
    "fact = 1\n",
    "for i in range(1,n+1):\n",
    "    fact = fact*i\n",
    "\n",
    "print(n,'!은',fact,'입니다.')"
   ],
   "metadata": {
    "collapsed": false,
    "pycharm": {
     "name": "#%%\n"
    }
   }
  },
  {
   "cell_type": "code",
   "execution_count": null,
   "outputs": [],
   "source": [
    "n = int(input('정수 입력'))\n",
    "fact = 1\n",
    "for i in range(n,1,-1):\n",
    "    fact = fact*i\n",
    "\n",
    "print(n,'!은',fact,'입니다.')"
   ],
   "metadata": {
    "collapsed": false,
    "pycharm": {
     "name": "#%%\n"
    }
   }
  },
  {
   "cell_type": "code",
   "execution_count": null,
   "outputs": [],
   "source": [
    "COUNT = 1000000\n",
    "START = 1.0\n",
    "END = 2.0\n",
    "\n",
    "for i in range(COUNT):\n",
    "    x = START + i*((END-START)/COUNT)\n",
    "    f = (x**2 -x -i)\n",
    "    if abs(f-0.0) < 0.0001:\n",
    "        print('방정식의 해는 ',x)"
   ],
   "metadata": {
    "collapsed": false,
    "pycharm": {
     "name": "#%%\n"
    }
   }
  },
  {
   "cell_type": "code",
   "execution_count": null,
   "outputs": [],
   "source": [
    "TARGET = 2000\n",
    "money = 1000\n",
    "year = 0\n",
    "rate = 0.07\n",
    "\n",
    "while money <TARGET:\n",
    "    money = money + money *rate\n",
    "    year = year+1\n",
    "\n",
    "print(year,'년')"
   ],
   "metadata": {
    "collapsed": false,
    "pycharm": {
     "name": "#%%\n"
    }
   }
  },
  {
   "cell_type": "code",
   "execution_count": null,
   "outputs": [],
   "source": [
    "i = 1\n",
    "sum = 0\n",
    "\n",
    "while i <= 10:\n",
    "    sum = sum +i\n",
    "    i = i+1\n",
    "\n",
    "print('sum = ',sum)"
   ],
   "metadata": {
    "collapsed": false,
    "pycharm": {
     "name": "#%%\n"
    }
   }
  },
  {
   "cell_type": "code",
   "execution_count": null,
   "outputs": [],
   "source": [
    "i = 0\n",
    "\n",
    "while i < 3:\n",
    "    print('in loop')\n",
    "    i = i+1\n",
    "else:\n",
    "    print('in else')"
   ],
   "metadata": {
    "collapsed": false,
    "pycharm": {
     "name": "#%%\n"
    }
   }
  },
  {
   "cell_type": "code",
   "execution_count": null,
   "outputs": [],
   "source": [
    "# i = 0\n",
    "#\n",
    "# while i<10:\n",
    "#     print('hello')"
   ],
   "metadata": {
    "collapsed": false,
    "pycharm": {
     "name": "#%%\n"
    }
   }
  },
  {
   "cell_type": "code",
   "execution_count": null,
   "outputs": [],
   "source": [
    "dan = int(input('단 :'))\n",
    "i = 1\n",
    "\n",
    "while i<=9:\n",
    "    print('%d*%d=%d' % (dan,i,dan*i))\n",
    "    i = i+1"
   ],
   "metadata": {
    "collapsed": false,
    "pycharm": {
     "name": "#%%\n"
    }
   }
  },
  {
   "cell_type": "code",
   "execution_count": null,
   "outputs": [],
   "source": [
    "import random as rand\n",
    "\n",
    "print('1부터 100 사이의 숫자를 맞추시오')\n",
    "tries = 0\n",
    "answer = rand.randint(1,100)\n",
    "corret = 0\n",
    "\n",
    "\n",
    "\n",
    "while corret !=answer:\n",
    "    corret = int(input('입력!'))\n",
    "    tries = tries+1\n",
    "    if corret >answer:\n",
    "        print('답변이 높음!')\n",
    "    elif corret < answer:\n",
    "        print('답변이 낮음!')\n",
    "\n",
    "if corret == answer:\n",
    "    print('정답입네다~')\n",
    "\n",
    "print('시도한 횟수',tries)\n",
    "\n"
   ],
   "metadata": {
    "collapsed": false,
    "pycharm": {
     "name": "#%%\n"
    }
   }
  },
  {
   "cell_type": "code",
   "execution_count": null,
   "outputs": [],
   "source": [
    "flag = True\n",
    "while flag:\n",
    "    x = rand.randint(1,100)\n",
    "    y = rand.randint(1,100)\n",
    "    answer = int(input(f'{x}+{y} = '))\n",
    "    if answer == x+y:\n",
    "        print('정답입네다!')\n",
    "    else:\n",
    "        print('틀렸습네다!')\n",
    "        print('정답은 =',x+y)\n",
    "        flag = False"
   ],
   "metadata": {
    "collapsed": false,
    "pycharm": {
     "name": "#%%\n"
    }
   }
  },
  {
   "cell_type": "code",
   "execution_count": null,
   "outputs": [],
   "source": [
    "password = ''\n",
    "id = ''\n",
    "while password != 'pythonisfun'and id !='kim':\n",
    "    password =input('압호를 입력')\n",
    "    id = input('id input')\n",
    "    if password=='pythonisfun' and id =='kim':\n",
    "        print('login succes')\n",
    "    else:\n",
    "        print('login fail')\n"
   ],
   "metadata": {
    "collapsed": false,
    "pycharm": {
     "name": "#%%\n"
    }
   }
  },
  {
   "cell_type": "markdown",
   "source": [],
   "metadata": {
    "collapsed": false
   }
  },
  {
   "cell_type": "code",
   "execution_count": null,
   "outputs": [],
   "source": [
    "for y in range(5):\n",
    "    for x in range(10):\n",
    "        print('*',end='' )\n",
    "    print('')"
   ],
   "metadata": {
    "collapsed": false,
    "pycharm": {
     "name": "#%%\n"
    }
   }
  },
  {
   "cell_type": "code",
   "execution_count": null,
   "outputs": [],
   "source": [
    "for y in range(1,6) :\n",
    "    for x in range(y):\n",
    "        print('*',end='' )\n",
    "    print('')"
   ],
   "metadata": {
    "collapsed": false,
    "pycharm": {
     "name": "#%%\n"
    }
   }
  },
  {
   "cell_type": "code",
   "execution_count": null,
   "outputs": [],
   "source": [
    "adj = ['small','medium','large']\n",
    "nonus = ['apple','banana','grape']\n",
    "\n",
    "for x in adj:\n",
    "    for y in nonus:\n",
    "        print(x,y)"
   ],
   "metadata": {
    "collapsed": false,
    "pycharm": {
     "name": "#%%\n"
    }
   }
  },
  {
   "cell_type": "code",
   "execution_count": null,
   "outputs": [],
   "source": [
    "for a in range(1,7):\n",
    "    for b in range(1,7):\n",
    "        if a+b ==6:\n",
    "            print(f'첫번째 주사위 {a} 두번째 주사위 = {b}')"
   ],
   "metadata": {
    "collapsed": false,
    "pycharm": {
     "name": "#%%\n"
    }
   }
  },
  {
   "cell_type": "code",
   "execution_count": null,
   "outputs": [],
   "source": [
    "persons = ['Kim','Park','Lee']\n",
    "restaurants = ['Korean','American','French']\n",
    "\n",
    "for person in persons:\n",
    "    for restaurant in restaurants:\n",
    "        print(person + '이'+restaurant + '식당방문!')"
   ],
   "metadata": {
    "collapsed": false,
    "pycharm": {
     "name": "#%%\n"
    }
   }
  },
  {
   "cell_type": "code",
   "execution_count": null,
   "outputs": [],
   "source": [
    "while True:\n",
    "    light = input('신호등 색상 입력')\n",
    "    if light =='green':\n",
    "        break\n",
    "\n",
    "print('GO!!')"
   ],
   "metadata": {
    "collapsed": false,
    "pycharm": {
     "name": "#%%\n"
    }
   }
  },
  {
   "cell_type": "code",
   "execution_count": null,
   "outputs": [],
   "source": [
    "for i in range(1,11):\n",
    "    if i%3 == 0:\n",
    "        continue\n",
    "    print(i,end=' ')"
   ],
   "metadata": {
    "collapsed": false,
    "pycharm": {
     "name": "#%%\n"
    }
   }
  },
  {
   "cell_type": "code",
   "execution_count": null,
   "outputs": [],
   "source": [
    "N_PRIMES = 50\n",
    "number = 2\n",
    "count = 0\n",
    "\n",
    "while count < N_PRIMES:\n",
    "    divisor = 2\n",
    "    prime = True\n",
    "\n",
    "    while divisor < number :\n",
    "        if number%divisor ==0:\n",
    "            prime = False\n",
    "            break;\n",
    "        divisor+=1\n",
    "    if prime:\n",
    "        count+=1\n",
    "        print(number,end=' ')\n",
    "    number+=1"
   ],
   "metadata": {
    "collapsed": false,
    "pycharm": {
     "name": "#%%\n"
    }
   }
  },
  {
   "cell_type": "code",
   "execution_count": null,
   "outputs": [],
   "source": [
    "divisor = 1.0\n",
    "divident = 4.0\n",
    "sum = 0.0\n",
    "loop_count = int(input('반복 횟수'))\n",
    "while loop_count>0:\n",
    "    sum = sum + divident /divisor\n",
    "    divident = -1.0*divident\n",
    "    divisor = divisor +2\n",
    "    loop_count = loop_count -1;\n",
    "\n",
    "print('Pi = %f'% sum)\n",
    "\n",
    "\n"
   ],
   "metadata": {
    "collapsed": false,
    "pycharm": {
     "name": "#%%\n"
    }
   }
  },
  {
   "cell_type": "code",
   "execution_count": null,
   "outputs": [],
   "source": [
    "import random as rand\n",
    "\n",
    "initial_money = 50\n",
    "goal = 250\n",
    "wins = 0\n",
    "\n",
    "\n",
    "for i in range(100):\n",
    "    cash = initial_money\n",
    "    while 0 < cash < goal:\n",
    "        number = rand.randint(1,2)\n",
    "        if number == 1:\n",
    "            cash =  cash+1\n",
    "        else:\n",
    "            cash = cash -1\n",
    "    if cash == goal : wins = wins+1\n",
    "\n",
    "print('초기금액 $%d' % initial_money)\n",
    "print('목표 금액 $%d' % goal )\n",
    "print('100번중에서 %d번 성공' %wins)"
   ],
   "metadata": {
    "collapsed": false,
    "pycharm": {
     "name": "#%%\n"
    }
   }
  }
 ],
 "metadata": {
  "kernelspec": {
   "display_name": "Python 3",
   "language": "python",
   "name": "python3"
  },
  "language_info": {
   "codemirror_mode": {
    "name": "ipython",
    "version": 2
   },
   "file_extension": ".py",
   "mimetype": "text/x-python",
   "name": "python",
   "nbconvert_exporter": "python",
   "pygments_lexer": "ipython2",
   "version": "2.7.6"
  }
 },
 "nbformat": 4,
 "nbformat_minor": 0
}