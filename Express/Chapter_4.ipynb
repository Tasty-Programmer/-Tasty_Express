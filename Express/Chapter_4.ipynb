{
 "cells": [
  {
   "cell_type": "code",
   "execution_count": 2,
   "metadata": {
    "collapsed": true
   },
   "outputs": [
    {
     "name": "stdout",
     "output_type": "stream",
     "text": [
      "10 9 8 7 6 5 4 3 2 1 "
     ]
    }
   ],
   "source": [
    "for i in range(10 , 0 , -1):\n",
    "    print(i , end=' ')"
   ]
  },
  {
   "cell_type": "code",
   "execution_count": 4,
   "outputs": [
    {
     "name": "stdout",
     "output_type": "stream",
     "text": [
      "합 55\n"
     ]
    }
   ],
   "source": [
    "sum = 0\n",
    "n = 10\n",
    "for i in range(1, n+1):\n",
    "    sum = sum + i\n",
    "\n",
    "print('합', sum)"
   ],
   "metadata": {
    "collapsed": false,
    "pycharm": {
     "name": "#%%\n"
    }
   }
  },
  {
   "cell_type": "code",
   "execution_count": 5,
   "outputs": [
    {
     "name": "stdout",
     "output_type": "stream",
     "text": [
      "9 * 1 = 9\n",
      "9 * 2 = 18\n",
      "9 * 3 = 27\n",
      "9 * 4 = 36\n",
      "9 * 5 = 45\n"
     ]
    }
   ],
   "source": [
    "for i in range(1,6):\n",
    "    print('9 *',i,'=',9*i)"
   ],
   "metadata": {
    "collapsed": false,
    "pycharm": {
     "name": "#%%\n"
    }
   }
  },
  {
   "cell_type": "code",
   "execution_count": 6,
   "outputs": [
    {
     "name": "stdout",
     "output_type": "stream",
     "text": [
      "2\n",
      "4\n",
      "6\n",
      "8\n"
     ]
    }
   ],
   "source": [
    "for i in range(1,5,1):\n",
    "    print(2*i)\n"
   ],
   "metadata": {
    "collapsed": false,
    "pycharm": {
     "name": "#%%\n"
    }
   }
  },
  {
   "cell_type": "code",
   "execution_count": 8,
   "outputs": [
    {
     "name": "stdout",
     "output_type": "stream",
     "text": [
      "student10\n",
      "student8\n",
      "student6\n",
      "student4\n",
      "student2\n"
     ]
    }
   ],
   "source": [
    "for i in range(10,0,-2):\n",
    "    print('student'+str(i))"
   ],
   "metadata": {
    "collapsed": false,
    "pycharm": {
     "name": "#%%\n"
    }
   }
  },
  {
   "cell_type": "code",
   "execution_count": 16,
   "outputs": [
    {
     "name": "stdout",
     "output_type": "stream",
     "text": [
      "5 !은 120 입니다.\n"
     ]
    }
   ],
   "source": [
    "n = int(input('정수 입력'))\n",
    "fact = 1\n",
    "for i in range(1,n+1):\n",
    "    fact = fact*i\n",
    "\n",
    "print(n,'!은',fact,'입니다.')"
   ],
   "metadata": {
    "collapsed": false,
    "pycharm": {
     "name": "#%%\n"
    }
   }
  },
  {
   "cell_type": "code",
   "execution_count": 27,
   "outputs": [
    {
     "name": "stdout",
     "output_type": "stream",
     "text": [
      "5 !은 120 입니다.\n"
     ]
    }
   ],
   "source": [
    "n = int(input('정수 입력'))\n",
    "fact = 1\n",
    "for i in range(n,1,-1):\n",
    "    fact = fact*i\n",
    "\n",
    "print(n,'!은',fact,'입니다.')"
   ],
   "metadata": {
    "collapsed": false,
    "pycharm": {
     "name": "#%%\n"
    }
   }
  },
  {
   "cell_type": "code",
   "execution_count": 36,
   "outputs": [
    {
     "name": "stdout",
     "output_type": "stream",
     "text": [
      "방정식의 해는  1.0\n"
     ]
    }
   ],
   "source": [
    "COUNT = 1000000\n",
    "START = 1.0\n",
    "END = 2.0\n",
    "\n",
    "for i in range(COUNT):\n",
    "    x = START + i*((END-START)/COUNT)\n",
    "    f = (x**2 -x -i)\n",
    "    if abs(f-0.0) < 0.0001:\n",
    "        print('방정식의 해는 ',x)"
   ],
   "metadata": {
    "collapsed": false,
    "pycharm": {
     "name": "#%%\n"
    }
   }
  },
  {
   "cell_type": "code",
   "execution_count": 37,
   "outputs": [
    {
     "name": "stdout",
     "output_type": "stream",
     "text": [
      "11 년\n"
     ]
    }
   ],
   "source": [
    "TARGET = 2000\n",
    "money = 1000\n",
    "year = 0\n",
    "rate = 0.07\n",
    "\n",
    "while money <TARGET:\n",
    "    money = money + money *rate\n",
    "    year = year+1\n",
    "\n",
    "print(year,'년')"
   ],
   "metadata": {
    "collapsed": false,
    "pycharm": {
     "name": "#%%\n"
    }
   }
  },
  {
   "cell_type": "code",
   "execution_count": 38,
   "outputs": [
    {
     "name": "stdout",
     "output_type": "stream",
     "text": [
      "sum =  55\n"
     ]
    }
   ],
   "source": [
    "i = 1\n",
    "sum = 0\n",
    "\n",
    "while i <= 10:\n",
    "    sum = sum +i\n",
    "    i = i+1\n",
    "\n",
    "print('sum = ',sum)"
   ],
   "metadata": {
    "collapsed": false,
    "pycharm": {
     "name": "#%%\n"
    }
   }
  },
  {
   "cell_type": "code",
   "execution_count": 39,
   "outputs": [
    {
     "name": "stdout",
     "output_type": "stream",
     "text": [
      "in loop\n",
      "in loop\n",
      "in loop\n",
      "in else\n"
     ]
    }
   ],
   "source": [
    "i = 0\n",
    "\n",
    "while i < 3:\n",
    "    print('in loop')\n",
    "    i = i+1\n",
    "else:\n",
    "    print('in else')"
   ],
   "metadata": {
    "collapsed": false,
    "pycharm": {
     "name": "#%%\n"
    }
   }
  },
  {
   "cell_type": "code",
   "execution_count": null,
   "outputs": [],
   "source": [
    "# i = 0\n",
    "#\n",
    "# while i<10:\n",
    "#     print('hello')"
   ],
   "metadata": {
    "collapsed": false,
    "pycharm": {
     "name": "#%%\n"
    }
   }
  },
  {
   "cell_type": "code",
   "execution_count": 1,
   "outputs": [
    {
     "name": "stdout",
     "output_type": "stream",
     "text": [
      "20*1=20\n",
      "20*2=40\n",
      "20*3=60\n",
      "20*4=80\n",
      "20*5=100\n",
      "20*6=120\n",
      "20*7=140\n",
      "20*8=160\n",
      "20*9=180\n"
     ]
    }
   ],
   "source": [
    "dan = int(input('단 :'))\n",
    "i = 1\n",
    "\n",
    "while i<=9:\n",
    "    print('%d*%d=%d' % (dan,i,dan*i))\n",
    "    i = i+1"
   ],
   "metadata": {
    "collapsed": false,
    "pycharm": {
     "name": "#%%\n"
    }
   }
  },
  {
   "cell_type": "code",
   "execution_count": 7,
   "outputs": [
    {
     "name": "stdout",
     "output_type": "stream",
     "text": [
      "1부터 100 사이의 숫자를 맞추시오\n",
      "답변이 높음!\n",
      "답변이 낮음!\n",
      "답변이 낮음!\n",
      "답변이 낮음!\n",
      "답변이 낮음!\n",
      "답변이 낮음!\n",
      "답변이 낮음!\n",
      "답변이 높음!\n",
      "답변이 높음!\n",
      "답변이 높음!\n",
      "답변이 높음!\n",
      "답변이 높음!\n",
      "답변이 높음!\n",
      "정답입네다~\n",
      "시도한 횟수 14\n"
     ]
    }
   ],
   "source": [
    "import random as rand\n",
    "\n",
    "print('1부터 100 사이의 숫자를 맞추시오')\n",
    "tries = 0\n",
    "answer = rand.randint(1,100)\n",
    "corret = 0\n",
    "\n",
    "\n",
    "\n",
    "while corret !=answer:\n",
    "    corret = int(input('입력!'))\n",
    "    tries = tries+1\n",
    "    if corret >answer:\n",
    "        print('답변이 높음!')\n",
    "    elif corret < answer:\n",
    "        print('답변이 낮음!')\n",
    "\n",
    "if corret == answer:\n",
    "    print('정답입네다~')\n",
    "\n",
    "print('시도한 횟수',tries)\n",
    "\n"
   ],
   "metadata": {
    "collapsed": false,
    "pycharm": {
     "name": "#%%\n"
    }
   }
  },
  {
   "cell_type": "code",
   "execution_count": 11,
   "outputs": [
    {
     "name": "stdout",
     "output_type": "stream",
     "text": [
      "틀렸습네다!\n",
      "정답은 = 160\n"
     ]
    }
   ],
   "source": [
    "flag = True\n",
    "while flag:\n",
    "    x = rand.randint(1,100)\n",
    "    y = rand.randint(1,100)\n",
    "    answer = int(input(f'{x}+{y} = '))\n",
    "    if answer == x+y:\n",
    "        print('정답입네다!')\n",
    "    else:\n",
    "        print('틀렸습네다!')\n",
    "        print('정답은 =',x+y)\n",
    "        flag = False"
   ],
   "metadata": {
    "collapsed": false,
    "pycharm": {
     "name": "#%%\n"
    }
   }
  },
  {
   "cell_type": "code",
   "execution_count": 16,
   "outputs": [
    {
     "name": "stdout",
     "output_type": "stream",
     "text": [
      "login fail\n"
     ]
    }
   ],
   "source": [
    "password = ''\n",
    "id = ''\n",
    "while password != 'pythonisfun'and id !='kim':\n",
    "    password =input('압호를 입력')\n",
    "    id = input('id input')\n",
    "    if password=='pythonisfun' and id =='kim':\n",
    "        print('login succes')\n",
    "    else:\n",
    "        print('login fail')\n"
   ],
   "metadata": {
    "collapsed": false,
    "pycharm": {
     "name": "#%%\n"
    }
   }
  },
  {
   "cell_type": "markdown",
   "source": [],
   "metadata": {
    "collapsed": false
   }
  },
  {
   "cell_type": "code",
   "execution_count": 17,
   "outputs": [
    {
     "name": "stdout",
     "output_type": "stream",
     "text": [
      "**********\n",
      "**********\n",
      "**********\n",
      "**********\n",
      "**********\n"
     ]
    }
   ],
   "source": [
    "for y in range(5):\n",
    "    for x in range(10):\n",
    "        print('*',end='' )\n",
    "    print('')"
   ],
   "metadata": {
    "collapsed": false,
    "pycharm": {
     "name": "#%%\n"
    }
   }
  },
  {
   "cell_type": "code",
   "execution_count": 18,
   "outputs": [
    {
     "name": "stdout",
     "output_type": "stream",
     "text": [
      "*\n",
      "**\n",
      "***\n",
      "****\n",
      "*****\n"
     ]
    }
   ],
   "source": [
    "for y in range(1,6) :\n",
    "    for x in range(y):\n",
    "        print('*',end='' )\n",
    "    print('')"
   ],
   "metadata": {
    "collapsed": false,
    "pycharm": {
     "name": "#%%\n"
    }
   }
  },
  {
   "cell_type": "code",
   "execution_count": 19,
   "outputs": [
    {
     "name": "stdout",
     "output_type": "stream",
     "text": [
      "small apple\n",
      "small banana\n",
      "small grape\n",
      "medium apple\n",
      "medium banana\n",
      "medium grape\n",
      "large apple\n",
      "large banana\n",
      "large grape\n"
     ]
    }
   ],
   "source": [
    "adj = ['small','medium','large']\n",
    "nonus = ['apple','banana','grape']\n",
    "\n",
    "for x in adj:\n",
    "    for y in nonus:\n",
    "        print(x,y)"
   ],
   "metadata": {
    "collapsed": false,
    "pycharm": {
     "name": "#%%\n"
    }
   }
  },
  {
   "cell_type": "code",
   "execution_count": 20,
   "outputs": [
    {
     "name": "stdout",
     "output_type": "stream",
     "text": [
      "첫번째 주사위 1 두번째 주사위 = 5\n",
      "첫번째 주사위 2 두번째 주사위 = 4\n",
      "첫번째 주사위 3 두번째 주사위 = 3\n",
      "첫번째 주사위 4 두번째 주사위 = 2\n",
      "첫번째 주사위 5 두번째 주사위 = 1\n"
     ]
    }
   ],
   "source": [
    "for a in range(1,7):\n",
    "    for b in range(1,7):\n",
    "        if a+b ==6:\n",
    "            print(f'첫번째 주사위 {a} 두번째 주사위 = {b}')"
   ],
   "metadata": {
    "collapsed": false,
    "pycharm": {
     "name": "#%%\n"
    }
   }
  },
  {
   "cell_type": "code",
   "execution_count": 21,
   "outputs": [
    {
     "name": "stdout",
     "output_type": "stream",
     "text": [
      "Kim이Korean식당방문!\n",
      "Kim이American식당방문!\n",
      "Kim이French식당방문!\n",
      "Park이Korean식당방문!\n",
      "Park이American식당방문!\n",
      "Park이French식당방문!\n",
      "Lee이Korean식당방문!\n",
      "Lee이American식당방문!\n",
      "Lee이French식당방문!\n"
     ]
    }
   ],
   "source": [
    "persons = ['Kim','Park','Lee']\n",
    "restaurants = ['Korean','American','French']\n",
    "\n",
    "for person in persons:\n",
    "    for restaurant in restaurants:\n",
    "        print(person + '이'+restaurant + '식당방문!')"
   ],
   "metadata": {
    "collapsed": false,
    "pycharm": {
     "name": "#%%\n"
    }
   }
  },
  {
   "cell_type": "code",
   "execution_count": null,
   "outputs": [],
   "source": [
    "while True:\n",
    "    light = input('신호등 색상 입력')\n",
    "    if light =='green':\n",
    "        break\n",
    "\n",
    "print('GO!!')"
   ],
   "metadata": {
    "collapsed": false,
    "pycharm": {
     "name": "#%%\n"
    }
   }
  },
  {
   "cell_type": "code",
   "execution_count": 22,
   "outputs": [
    {
     "name": "stdout",
     "output_type": "stream",
     "text": [
      "1 2 4 5 7 8 10 "
     ]
    }
   ],
   "source": [
    "for i in range(1,11):\n",
    "    if i%3 == 0:\n",
    "        continue\n",
    "    print(i,end=' ')"
   ],
   "metadata": {
    "collapsed": false,
    "pycharm": {
     "name": "#%%\n"
    }
   }
  },
  {
   "cell_type": "code",
   "execution_count": 23,
   "outputs": [
    {
     "name": "stdout",
     "output_type": "stream",
     "text": [
      "2 3 5 7 11 13 17 19 23 29 31 37 41 43 47 53 59 61 67 71 73 79 83 89 97 101 103 107 109 113 127 131 137 139 149 151 157 163 167 173 179 181 191 193 197 199 211 223 227 229 "
     ]
    }
   ],
   "source": [
    "N_PRIMES = 50\n",
    "number = 2\n",
    "count = 0\n",
    "\n",
    "while count < N_PRIMES:\n",
    "    divisor = 2\n",
    "    prime = True\n",
    "\n",
    "    while divisor < number :\n",
    "        if number%divisor ==0:\n",
    "            prime = False\n",
    "            break;\n",
    "        divisor+=1\n",
    "    if prime:\n",
    "        count+=1\n",
    "        print(number,end=' ')\n",
    "    number+=1"
   ],
   "metadata": {
    "collapsed": false,
    "pycharm": {
     "name": "#%%\n"
    }
   }
  },
  {
   "cell_type": "code",
   "execution_count": null,
   "outputs": [],
   "source": [],
   "metadata": {
    "collapsed": false,
    "pycharm": {
     "name": "#%%\n"
    }
   }
  },
  {
   "cell_type": "code",
   "execution_count": null,
   "outputs": [],
   "source": [],
   "metadata": {
    "collapsed": false,
    "pycharm": {
     "name": "#%%\n"
    }
   }
  },
  {
   "cell_type": "code",
   "execution_count": null,
   "outputs": [],
   "source": [],
   "metadata": {
    "collapsed": false,
    "pycharm": {
     "name": "#%%\n"
    }
   }
  },
  {
   "cell_type": "code",
   "execution_count": null,
   "outputs": [],
   "source": [],
   "metadata": {
    "collapsed": false,
    "pycharm": {
     "name": "#%%\n"
    }
   }
  },
  {
   "cell_type": "code",
   "execution_count": null,
   "outputs": [],
   "source": [],
   "metadata": {
    "collapsed": false,
    "pycharm": {
     "name": "#%%\n"
    }
   }
  },
  {
   "cell_type": "code",
   "execution_count": null,
   "outputs": [],
   "source": [],
   "metadata": {
    "collapsed": false,
    "pycharm": {
     "name": "#%%\n"
    }
   }
  },
  {
   "cell_type": "code",
   "execution_count": null,
   "outputs": [],
   "source": [],
   "metadata": {
    "collapsed": false,
    "pycharm": {
     "name": "#%%\n"
    }
   }
  },
  {
   "cell_type": "code",
   "execution_count": null,
   "outputs": [],
   "source": [],
   "metadata": {
    "collapsed": false,
    "pycharm": {
     "name": "#%%\n"
    }
   }
  }
 ],
 "metadata": {
  "kernelspec": {
   "display_name": "Python 3",
   "language": "python",
   "name": "python3"
  },
  "language_info": {
   "codemirror_mode": {
    "name": "ipython",
    "version": 2
   },
   "file_extension": ".py",
   "mimetype": "text/x-python",
   "name": "python",
   "nbconvert_exporter": "python",
   "pygments_lexer": "ipython2",
   "version": "2.7.6"
  }
 },
 "nbformat": 4,
 "nbformat_minor": 0
}